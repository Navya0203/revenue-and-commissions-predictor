{
  "cells": [
    {
      "cell_type": "code",
      "execution_count": null,
      "id": "9c7c3d36",
      "metadata": {
        "id": "9c7c3d36"
      },
      "outputs": [],
      "source": [
        "import pandas as pd\n",
        "import numpy as np\n",
        "import matplotlib.pyplot as plt\n",
        "import seaborn as sns\n"
      ]
    },
    {
      "cell_type": "code",
      "execution_count": null,
      "id": "c6bcdd02",
      "metadata": {
        "id": "c6bcdd02"
      },
      "outputs": [],
      "source": [
        "df=pd.read_csv('Pi_FnB_masked_data.csv')"
      ]
    },
    {
      "cell_type": "code",
      "execution_count": null,
      "id": "8d06886c",
      "metadata": {
        "id": "8d06886c",
        "outputId": "c85aa05c-bc63-4170-fe45-1a680f194d94"
      },
      "outputs": [
        {
          "data": {
            "text/html": [
              "<div>\n",
              "<style scoped>\n",
              "    .dataframe tbody tr th:only-of-type {\n",
              "        vertical-align: middle;\n",
              "    }\n",
              "\n",
              "    .dataframe tbody tr th {\n",
              "        vertical-align: top;\n",
              "    }\n",
              "\n",
              "    .dataframe thead th {\n",
              "        text-align: right;\n",
              "    }\n",
              "</style>\n",
              "<table border=\"1\" class=\"dataframe\">\n",
              "  <thead>\n",
              "    <tr style=\"text-align: right;\">\n",
              "      <th></th>\n",
              "      <th>YEAR</th>\n",
              "      <th>MONTH</th>\n",
              "      <th>Company</th>\n",
              "      <th>Area 1</th>\n",
              "      <th>Area 2</th>\n",
              "      <th>Area 3</th>\n",
              "      <th>Area 3 Classification</th>\n",
              "      <th>Outlet Type</th>\n",
              "      <th>Outlet Name</th>\n",
              "      <th>Product Category 1</th>\n",
              "      <th>Product Category 2</th>\n",
              "      <th>Product</th>\n",
              "      <th>Units sold</th>\n",
              "      <th>Revenue</th>\n",
              "      <th>Commission</th>\n",
              "    </tr>\n",
              "  </thead>\n",
              "  <tbody>\n",
              "    <tr>\n",
              "      <th>0</th>\n",
              "      <td>2018</td>\n",
              "      <td>JAN</td>\n",
              "      <td>white walkers</td>\n",
              "      <td>the westerlands</td>\n",
              "      <td>golden tooth</td>\n",
              "      <td>rivermen</td>\n",
              "      <td>lord of the crossing</td>\n",
              "      <td>house frey</td>\n",
              "      <td>viserys ii targaryen</td>\n",
              "      <td>korean</td>\n",
              "      <td>bagels</td>\n",
              "      <td>white cabbage</td>\n",
              "      <td>2.495851</td>\n",
              "      <td>49717.353917</td>\n",
              "      <td>0.000000</td>\n",
              "    </tr>\n",
              "    <tr>\n",
              "      <th>1</th>\n",
              "      <td>2018</td>\n",
              "      <td>FEB</td>\n",
              "      <td>white walkers</td>\n",
              "      <td>the riverlands</td>\n",
              "      <td>mummer's ford</td>\n",
              "      <td>dornish</td>\n",
              "      <td>ser</td>\n",
              "      <td>house swyft</td>\n",
              "      <td>walder frey</td>\n",
              "      <td>greek</td>\n",
              "      <td>chicken bouillon granules</td>\n",
              "      <td>rye</td>\n",
              "      <td>45.198292</td>\n",
              "      <td>249494.572083</td>\n",
              "      <td>0.000000</td>\n",
              "    </tr>\n",
              "    <tr>\n",
              "      <th>2</th>\n",
              "      <td>2018</td>\n",
              "      <td>JUN</td>\n",
              "      <td>men</td>\n",
              "      <td>the north</td>\n",
              "      <td>riverrun</td>\n",
              "      <td>valyrian</td>\n",
              "      <td>ser</td>\n",
              "      <td>house arryn</td>\n",
              "      <td>addison hill</td>\n",
              "      <td>korean</td>\n",
              "      <td>dry yeast</td>\n",
              "      <td>wheels</td>\n",
              "      <td>2.475006</td>\n",
              "      <td>54351.125584</td>\n",
              "      <td>4393.135151</td>\n",
              "    </tr>\n",
              "    <tr>\n",
              "      <th>3</th>\n",
              "      <td>2018</td>\n",
              "      <td>FEB</td>\n",
              "      <td>white walkers</td>\n",
              "      <td>the stormlands</td>\n",
              "      <td>green fork</td>\n",
              "      <td>ironborn</td>\n",
              "      <td>lord of the crossing</td>\n",
              "      <td>house santagar</td>\n",
              "      <td>aemma arryn</td>\n",
              "      <td>mexican</td>\n",
              "      <td>chicken bouillon granules</td>\n",
              "      <td>cola soft drink</td>\n",
              "      <td>4.980233</td>\n",
              "      <td>33467.167489</td>\n",
              "      <td>0.000000</td>\n",
              "    </tr>\n",
              "    <tr>\n",
              "      <th>4</th>\n",
              "      <td>2018</td>\n",
              "      <td>JAN</td>\n",
              "      <td>white walkers</td>\n",
              "      <td>the crownlands</td>\n",
              "      <td>whispering wood</td>\n",
              "      <td>free folk</td>\n",
              "      <td>ser</td>\n",
              "      <td>house targaryen</td>\n",
              "      <td>sylva santagar</td>\n",
              "      <td>indian</td>\n",
              "      <td>field peas</td>\n",
              "      <td>mexican oregano</td>\n",
              "      <td>2.482338</td>\n",
              "      <td>27256.068984</td>\n",
              "      <td>0.000000</td>\n",
              "    </tr>\n",
              "  </tbody>\n",
              "</table>\n",
              "</div>"
            ],
            "text/plain": [
              "   YEAR MONTH        Company           Area 1           Area 2     Area 3  \\\n",
              "0  2018   JAN  white walkers  the westerlands     golden tooth   rivermen   \n",
              "1  2018   FEB  white walkers   the riverlands    mummer's ford    dornish   \n",
              "2  2018   JUN            men        the north         riverrun   valyrian   \n",
              "3  2018   FEB  white walkers   the stormlands       green fork   ironborn   \n",
              "4  2018   JAN  white walkers   the crownlands  whispering wood  free folk   \n",
              "\n",
              "  Area 3 Classification      Outlet Type           Outlet Name  \\\n",
              "0  lord of the crossing       house frey  viserys ii targaryen   \n",
              "1                   ser      house swyft           walder frey   \n",
              "2                   ser      house arryn          addison hill   \n",
              "3  lord of the crossing   house santagar           aemma arryn   \n",
              "4                   ser  house targaryen        sylva santagar   \n",
              "\n",
              "  Product Category 1         Product Category 2          Product  Units sold  \\\n",
              "0             korean                     bagels    white cabbage    2.495851   \n",
              "1              greek  chicken bouillon granules              rye   45.198292   \n",
              "2             korean                  dry yeast           wheels    2.475006   \n",
              "3            mexican  chicken bouillon granules  cola soft drink    4.980233   \n",
              "4             indian                 field peas  mexican oregano    2.482338   \n",
              "\n",
              "         Revenue   Commission  \n",
              "0   49717.353917     0.000000  \n",
              "1  249494.572083     0.000000  \n",
              "2   54351.125584  4393.135151  \n",
              "3   33467.167489     0.000000  \n",
              "4   27256.068984     0.000000  "
            ]
          },
          "execution_count": 3,
          "metadata": {},
          "output_type": "execute_result"
        }
      ],
      "source": [
        "df.head()"
      ]
    },
    {
      "cell_type": "code",
      "execution_count": null,
      "id": "66d9b4fa",
      "metadata": {
        "id": "66d9b4fa",
        "outputId": "29504111-991f-48ea-fb8f-3f404227f40b"
      },
      "outputs": [
        {
          "data": {
            "text/html": [
              "<div>\n",
              "<style scoped>\n",
              "    .dataframe tbody tr th:only-of-type {\n",
              "        vertical-align: middle;\n",
              "    }\n",
              "\n",
              "    .dataframe tbody tr th {\n",
              "        vertical-align: top;\n",
              "    }\n",
              "\n",
              "    .dataframe thead th {\n",
              "        text-align: right;\n",
              "    }\n",
              "</style>\n",
              "<table border=\"1\" class=\"dataframe\">\n",
              "  <thead>\n",
              "    <tr style=\"text-align: right;\">\n",
              "      <th></th>\n",
              "      <th>Company</th>\n",
              "      <th>Area 1</th>\n",
              "      <th>Area 2</th>\n",
              "      <th>Area 3</th>\n",
              "      <th>Area 3 Classification</th>\n",
              "      <th>Outlet Type</th>\n",
              "      <th>Product Category 1</th>\n",
              "      <th>Product Category 2</th>\n",
              "      <th>Product</th>\n",
              "      <th>Units sold</th>\n",
              "      <th>Revenue</th>\n",
              "      <th>Commission</th>\n",
              "    </tr>\n",
              "  </thead>\n",
              "  <tbody>\n",
              "    <tr>\n",
              "      <th>0</th>\n",
              "      <td>white walkers</td>\n",
              "      <td>the westerlands</td>\n",
              "      <td>golden tooth</td>\n",
              "      <td>rivermen</td>\n",
              "      <td>lord of the crossing</td>\n",
              "      <td>house frey</td>\n",
              "      <td>korean</td>\n",
              "      <td>bagels</td>\n",
              "      <td>white cabbage</td>\n",
              "      <td>2.495851</td>\n",
              "      <td>49717.353917</td>\n",
              "      <td>0.000000</td>\n",
              "    </tr>\n",
              "    <tr>\n",
              "      <th>1</th>\n",
              "      <td>white walkers</td>\n",
              "      <td>the riverlands</td>\n",
              "      <td>mummer's ford</td>\n",
              "      <td>dornish</td>\n",
              "      <td>ser</td>\n",
              "      <td>house swyft</td>\n",
              "      <td>greek</td>\n",
              "      <td>chicken bouillon granules</td>\n",
              "      <td>rye</td>\n",
              "      <td>45.198292</td>\n",
              "      <td>249494.572083</td>\n",
              "      <td>0.000000</td>\n",
              "    </tr>\n",
              "    <tr>\n",
              "      <th>2</th>\n",
              "      <td>men</td>\n",
              "      <td>the north</td>\n",
              "      <td>riverrun</td>\n",
              "      <td>valyrian</td>\n",
              "      <td>ser</td>\n",
              "      <td>house arryn</td>\n",
              "      <td>korean</td>\n",
              "      <td>dry yeast</td>\n",
              "      <td>wheels</td>\n",
              "      <td>2.475006</td>\n",
              "      <td>54351.125584</td>\n",
              "      <td>4393.135151</td>\n",
              "    </tr>\n",
              "    <tr>\n",
              "      <th>3</th>\n",
              "      <td>white walkers</td>\n",
              "      <td>the stormlands</td>\n",
              "      <td>green fork</td>\n",
              "      <td>ironborn</td>\n",
              "      <td>lord of the crossing</td>\n",
              "      <td>house santagar</td>\n",
              "      <td>mexican</td>\n",
              "      <td>chicken bouillon granules</td>\n",
              "      <td>cola soft drink</td>\n",
              "      <td>4.980233</td>\n",
              "      <td>33467.167489</td>\n",
              "      <td>0.000000</td>\n",
              "    </tr>\n",
              "    <tr>\n",
              "      <th>4</th>\n",
              "      <td>white walkers</td>\n",
              "      <td>the crownlands</td>\n",
              "      <td>whispering wood</td>\n",
              "      <td>free folk</td>\n",
              "      <td>ser</td>\n",
              "      <td>house targaryen</td>\n",
              "      <td>indian</td>\n",
              "      <td>field peas</td>\n",
              "      <td>mexican oregano</td>\n",
              "      <td>2.482338</td>\n",
              "      <td>27256.068984</td>\n",
              "      <td>0.000000</td>\n",
              "    </tr>\n",
              "  </tbody>\n",
              "</table>\n",
              "</div>"
            ],
            "text/plain": [
              "         Company           Area 1           Area 2     Area 3  \\\n",
              "0  white walkers  the westerlands     golden tooth   rivermen   \n",
              "1  white walkers   the riverlands    mummer's ford    dornish   \n",
              "2            men        the north         riverrun   valyrian   \n",
              "3  white walkers   the stormlands       green fork   ironborn   \n",
              "4  white walkers   the crownlands  whispering wood  free folk   \n",
              "\n",
              "  Area 3 Classification      Outlet Type Product Category 1  \\\n",
              "0  lord of the crossing       house frey             korean   \n",
              "1                   ser      house swyft              greek   \n",
              "2                   ser      house arryn             korean   \n",
              "3  lord of the crossing   house santagar            mexican   \n",
              "4                   ser  house targaryen             indian   \n",
              "\n",
              "          Product Category 2          Product  Units sold        Revenue  \\\n",
              "0                     bagels    white cabbage    2.495851   49717.353917   \n",
              "1  chicken bouillon granules              rye   45.198292  249494.572083   \n",
              "2                  dry yeast           wheels    2.475006   54351.125584   \n",
              "3  chicken bouillon granules  cola soft drink    4.980233   33467.167489   \n",
              "4                 field peas  mexican oregano    2.482338   27256.068984   \n",
              "\n",
              "    Commission  \n",
              "0     0.000000  \n",
              "1     0.000000  \n",
              "2  4393.135151  \n",
              "3     0.000000  \n",
              "4     0.000000  "
            ]
          },
          "execution_count": 4,
          "metadata": {},
          "output_type": "execute_result"
        }
      ],
      "source": [
        "#dropping year and month columns\n",
        "df.drop(['YEAR','MONTH','Outlet Name'],axis=1,inplace=True)\n",
        "df.head()"
      ]
    },
    {
      "cell_type": "code",
      "execution_count": null,
      "id": "0f9dd8f3",
      "metadata": {
        "scrolled": true,
        "id": "0f9dd8f3",
        "outputId": "7ecad94a-24c7-46a2-97e6-3922b17f8659"
      },
      "outputs": [
        {
          "data": {
            "text/html": [
              "<div>\n",
              "<style scoped>\n",
              "    .dataframe tbody tr th:only-of-type {\n",
              "        vertical-align: middle;\n",
              "    }\n",
              "\n",
              "    .dataframe tbody tr th {\n",
              "        vertical-align: top;\n",
              "    }\n",
              "\n",
              "    .dataframe thead th {\n",
              "        text-align: right;\n",
              "    }\n",
              "</style>\n",
              "<table border=\"1\" class=\"dataframe\">\n",
              "  <thead>\n",
              "    <tr style=\"text-align: right;\">\n",
              "      <th></th>\n",
              "      <th>Commission</th>\n",
              "    </tr>\n",
              "    <tr>\n",
              "      <th>Company</th>\n",
              "      <th></th>\n",
              "    </tr>\n",
              "  </thead>\n",
              "  <tbody>\n",
              "    <tr>\n",
              "      <th>men</th>\n",
              "      <td>2.229524e+09</td>\n",
              "    </tr>\n",
              "    <tr>\n",
              "      <th>white walkers</th>\n",
              "      <td>1.522492e+09</td>\n",
              "    </tr>\n",
              "  </tbody>\n",
              "</table>\n",
              "</div>"
            ],
            "text/plain": [
              "                 Commission\n",
              "Company                    \n",
              "men            2.229524e+09\n",
              "white walkers  1.522492e+09"
            ]
          },
          "execution_count": 5,
          "metadata": {},
          "output_type": "execute_result"
        }
      ],
      "source": [
        "#Group by company column on the data\n",
        "df[['Company','Commission']].groupby(['Company']).sum()\n"
      ]
    },
    {
      "cell_type": "code",
      "execution_count": null,
      "id": "a39193ae",
      "metadata": {
        "scrolled": false,
        "id": "a39193ae",
        "outputId": "a2bb8487-2fe8-4839-b87b-ec5f666a00d2"
      },
      "outputs": [
        {
          "data": {
            "text/plain": [
              "<AxesSubplot:xlabel='Company'>"
            ]
          },
          "execution_count": 6,
          "metadata": {},
          "output_type": "execute_result"
        },
        {
          "data": {
            "image/png": "[encoded data removed]",
            "text/plain": [
              "<Figure size 432x288 with 1 Axes>"
            ]
          },
          "metadata": {
            "needs_background": "light"
          },
          "output_type": "display_data"
        }
      ],
      "source": [
        "df[['Company','Commission']].groupby(['Company']).sum().plot(kind=\"bar\")"
      ]
    },
    {
      "cell_type": "markdown",
      "id": "bb48faec",
      "metadata": {
        "id": "bb48faec"
      },
      "source": [
        "# Inference\n",
        "Men produces more commission in comparison to White walker in general"
      ]
    },
    {
      "cell_type": "code",
      "execution_count": null,
      "id": "c71ac51d",
      "metadata": {
        "scrolled": true,
        "id": "c71ac51d",
        "outputId": "31e9adaa-461c-4030-a1c3-048fbf34f17d"
      },
      "outputs": [
        {
          "data": {
            "text/html": [
              "<div>\n",
              "<style scoped>\n",
              "    .dataframe tbody tr th:only-of-type {\n",
              "        vertical-align: middle;\n",
              "    }\n",
              "\n",
              "    .dataframe tbody tr th {\n",
              "        vertical-align: top;\n",
              "    }\n",
              "\n",
              "    .dataframe thead th {\n",
              "        text-align: right;\n",
              "    }\n",
              "</style>\n",
              "<table border=\"1\" class=\"dataframe\">\n",
              "  <thead>\n",
              "    <tr style=\"text-align: right;\">\n",
              "      <th></th>\n",
              "      <th>Commission</th>\n",
              "    </tr>\n",
              "    <tr>\n",
              "      <th>Product</th>\n",
              "      <th></th>\n",
              "    </tr>\n",
              "  </thead>\n",
              "  <tbody>\n",
              "    <tr>\n",
              "      <th>abbamele</th>\n",
              "      <td>0.000000</td>\n",
              "    </tr>\n",
              "    <tr>\n",
              "      <th>achiote paste</th>\n",
              "      <td>0.000000</td>\n",
              "    </tr>\n",
              "    <tr>\n",
              "      <th>agave nectar</th>\n",
              "      <td>0.000000</td>\n",
              "    </tr>\n",
              "    <tr>\n",
              "      <th>ahi</th>\n",
              "      <td>975707.911443</td>\n",
              "    </tr>\n",
              "    <tr>\n",
              "      <th>aleppo pepper</th>\n",
              "      <td>613955.720708</td>\n",
              "    </tr>\n",
              "    <tr>\n",
              "      <th>...</th>\n",
              "      <td>...</td>\n",
              "    </tr>\n",
              "    <tr>\n",
              "      <th>yeast</th>\n",
              "      <td>0.000000</td>\n",
              "    </tr>\n",
              "    <tr>\n",
              "      <th>yellow curry paste</th>\n",
              "      <td>0.000000</td>\n",
              "    </tr>\n",
              "    <tr>\n",
              "      <th>yellow food coloring</th>\n",
              "      <td>0.000000</td>\n",
              "    </tr>\n",
              "    <tr>\n",
              "      <th>yellow lentils</th>\n",
              "      <td>0.000000</td>\n",
              "    </tr>\n",
              "    <tr>\n",
              "      <th>yellow rock sugar</th>\n",
              "      <td>0.000000</td>\n",
              "    </tr>\n",
              "  </tbody>\n",
              "</table>\n",
              "<p>320 rows × 1 columns</p>\n",
              "</div>"
            ],
            "text/plain": [
              "                         Commission\n",
              "Product                            \n",
              "abbamele                   0.000000\n",
              "achiote paste              0.000000\n",
              "agave nectar               0.000000\n",
              "ahi                   975707.911443\n",
              "aleppo pepper         613955.720708\n",
              "...                             ...\n",
              "yeast                      0.000000\n",
              "yellow curry paste         0.000000\n",
              "yellow food coloring       0.000000\n",
              "yellow lentils             0.000000\n",
              "yellow rock sugar          0.000000\n",
              "\n",
              "[320 rows x 1 columns]"
            ]
          },
          "execution_count": 7,
          "metadata": {},
          "output_type": "execute_result"
        }
      ],
      "source": [
        "#group by products column\n",
        "df[['Product','Commission']].groupby(['Product']).sum()"
      ]
    },
    {
      "cell_type": "code",
      "execution_count": null,
      "id": "f17fb66f",
      "metadata": {
        "scrolled": true,
        "id": "f17fb66f",
        "outputId": "ffec2000-e0fd-4003-8de2-e3c871288ad4"
      },
      "outputs": [
        {
          "data": {
            "text/html": [
              "<div>\n",
              "<style scoped>\n",
              "    .dataframe tbody tr th:only-of-type {\n",
              "        vertical-align: middle;\n",
              "    }\n",
              "\n",
              "    .dataframe tbody tr th {\n",
              "        vertical-align: top;\n",
              "    }\n",
              "\n",
              "    .dataframe thead th {\n",
              "        text-align: right;\n",
              "    }\n",
              "</style>\n",
              "<table border=\"1\" class=\"dataframe\">\n",
              "  <thead>\n",
              "    <tr style=\"text-align: right;\">\n",
              "      <th></th>\n",
              "      <th>Commission</th>\n",
              "    </tr>\n",
              "    <tr>\n",
              "      <th>Product Category 1</th>\n",
              "      <th></th>\n",
              "    </tr>\n",
              "  </thead>\n",
              "  <tbody>\n",
              "    <tr>\n",
              "      <th>chinese</th>\n",
              "      <td>8.456222e+07</td>\n",
              "    </tr>\n",
              "    <tr>\n",
              "      <th>greek</th>\n",
              "      <td>1.246380e+09</td>\n",
              "    </tr>\n",
              "    <tr>\n",
              "      <th>indian</th>\n",
              "      <td>6.593057e+08</td>\n",
              "    </tr>\n",
              "    <tr>\n",
              "      <th>korean</th>\n",
              "      <td>8.484477e+08</td>\n",
              "    </tr>\n",
              "    <tr>\n",
              "      <th>mexican</th>\n",
              "      <td>7.408585e+08</td>\n",
              "    </tr>\n",
              "    <tr>\n",
              "      <th>vietnamese</th>\n",
              "      <td>1.724628e+08</td>\n",
              "    </tr>\n",
              "  </tbody>\n",
              "</table>\n",
              "</div>"
            ],
            "text/plain": [
              "                      Commission\n",
              "Product Category 1              \n",
              "chinese             8.456222e+07\n",
              "greek               1.246380e+09\n",
              "indian              6.593057e+08\n",
              "korean              8.484477e+08\n",
              "mexican             7.408585e+08\n",
              "vietnamese          1.724628e+08"
            ]
          },
          "execution_count": 8,
          "metadata": {},
          "output_type": "execute_result"
        }
      ],
      "source": [
        "#group by product category one\n",
        "df[['Product Category 1','Commission']].groupby(['Product Category 1']).sum()"
      ]
    },
    {
      "cell_type": "code",
      "execution_count": null,
      "id": "1f837da8",
      "metadata": {
        "scrolled": true,
        "id": "1f837da8",
        "outputId": "31963f56-ef2b-4fda-a638-56d0c5675116"
      },
      "outputs": [
        {
          "data": {
            "text/plain": [
              "<AxesSubplot:xlabel='Product Category 1'>"
            ]
          },
          "execution_count": 9,
          "metadata": {},
          "output_type": "execute_result"
        },
        {
          "data": {
            "image/png": "[encoded data removed]",
            "text/plain": [
              "<Figure size 432x288 with 1 Axes>"
            ]
          },
          "metadata": {
            "needs_background": "light"
          },
          "output_type": "display_data"
        }
      ],
      "source": [
        "df[['Product Category 1','Commission']].groupby(['Product Category 1']).sum().plot(kind='bar')"
      ]
    },
    {
      "cell_type": "markdown",
      "id": "50ddf5e7",
      "metadata": {
        "id": "50ddf5e7"
      },
      "source": [
        "# Inference\n",
        "Korean,Chinese and Vietnamese product types produce more commission"
      ]
    },
    {
      "cell_type": "code",
      "execution_count": null,
      "id": "19de3acd",
      "metadata": {
        "id": "19de3acd",
        "outputId": "212cc725-dd99-44e8-a519-5f7d909900d0"
      },
      "outputs": [
        {
          "data": {
            "text/html": [
              "<div>\n",
              "<style scoped>\n",
              "    .dataframe tbody tr th:only-of-type {\n",
              "        vertical-align: middle;\n",
              "    }\n",
              "\n",
              "    .dataframe tbody tr th {\n",
              "        vertical-align: top;\n",
              "    }\n",
              "\n",
              "    .dataframe thead th {\n",
              "        text-align: right;\n",
              "    }\n",
              "</style>\n",
              "<table border=\"1\" class=\"dataframe\">\n",
              "  <thead>\n",
              "    <tr style=\"text-align: right;\">\n",
              "      <th></th>\n",
              "      <th>Commission</th>\n",
              "    </tr>\n",
              "    <tr>\n",
              "      <th>Product Category 2</th>\n",
              "      <th></th>\n",
              "    </tr>\n",
              "  </thead>\n",
              "  <tbody>\n",
              "    <tr>\n",
              "      <th>1% low-fat cottage cheese</th>\n",
              "      <td>1.964658e+08</td>\n",
              "    </tr>\n",
              "    <tr>\n",
              "      <th>Aberlour</th>\n",
              "      <td>6.550838e+05</td>\n",
              "    </tr>\n",
              "    <tr>\n",
              "      <th>Brancott</th>\n",
              "      <td>4.207981e+05</td>\n",
              "    </tr>\n",
              "    <tr>\n",
              "      <th>Caol Ila</th>\n",
              "      <td>0.000000e+00</td>\n",
              "    </tr>\n",
              "    <tr>\n",
              "      <th>Cardhu</th>\n",
              "      <td>0.000000e+00</td>\n",
              "    </tr>\n",
              "    <tr>\n",
              "      <th>...</th>\n",
              "      <td>...</td>\n",
              "    </tr>\n",
              "    <tr>\n",
              "      <th>white beans</th>\n",
              "      <td>0.000000e+00</td>\n",
              "    </tr>\n",
              "    <tr>\n",
              "      <th>white cheddar cheese</th>\n",
              "      <td>0.000000e+00</td>\n",
              "    </tr>\n",
              "    <tr>\n",
              "      <th>white peppercorns</th>\n",
              "      <td>0.000000e+00</td>\n",
              "    </tr>\n",
              "    <tr>\n",
              "      <th>whole grain mustard</th>\n",
              "      <td>2.301842e+07</td>\n",
              "    </tr>\n",
              "    <tr>\n",
              "      <th>whole wheat bread toasted</th>\n",
              "      <td>0.000000e+00</td>\n",
              "    </tr>\n",
              "  </tbody>\n",
              "</table>\n",
              "<p>109 rows × 1 columns</p>\n",
              "</div>"
            ],
            "text/plain": [
              "                             Commission\n",
              "Product Category 2                     \n",
              "1% low-fat cottage cheese  1.964658e+08\n",
              "Aberlour                   6.550838e+05\n",
              "Brancott                   4.207981e+05\n",
              "Caol Ila                   0.000000e+00\n",
              "Cardhu                     0.000000e+00\n",
              "...                                 ...\n",
              "white beans                0.000000e+00\n",
              "white cheddar cheese       0.000000e+00\n",
              "white peppercorns          0.000000e+00\n",
              "whole grain mustard        2.301842e+07\n",
              "whole wheat bread toasted  0.000000e+00\n",
              "\n",
              "[109 rows x 1 columns]"
            ]
          },
          "execution_count": 10,
          "metadata": {},
          "output_type": "execute_result"
        }
      ],
      "source": [
        "#group by product category two\n",
        "df[['Product Category 2','Commission']].groupby(['Product Category 2']).sum()"
      ]
    },
    {
      "cell_type": "code",
      "execution_count": null,
      "id": "2c915923",
      "metadata": {
        "scrolled": true,
        "id": "2c915923",
        "outputId": "5881e8c0-d3aa-4125-ccb4-f0e37bc962b8"
      },
      "outputs": [
        {
          "data": {
            "text/plain": [
              "<AxesSubplot:xlabel='Product Category 2'>"
            ]
          },
          "execution_count": 11,
          "metadata": {},
          "output_type": "execute_result"
        },
        {
          "data": {
            "image/png": "[encoded data removed]",
            "text/plain": [
              "<Figure size 3600x720 with 1 Axes>"
            ]
          },
          "metadata": {
            "needs_background": "light"
          },
          "output_type": "display_data"
        }
      ],
      "source": [
        "\n",
        "df[['Product Category 2','Commission']].groupby(['Product Category 2']).sum().plot(kind='bar',figsize=(50,10))"
      ]
    },
    {
      "cell_type": "markdown",
      "id": "42afd87e",
      "metadata": {
        "id": "42afd87e"
      },
      "source": [
        "# Inference\n",
        "Reduce fat cream cheese,snails and acorn squash have high commissions\n",
        "Now since we can see that commissions is 0 for quiet a few  product category 2 we can drop product category 1."
      ]
    },
    {
      "cell_type": "code",
      "execution_count": null,
      "id": "ea37c2ba",
      "metadata": {
        "id": "ea37c2ba"
      },
      "outputs": [],
      "source": [
        "df.drop(['Product Category 1'],axis=1,inplace=True)"
      ]
    },
    {
      "cell_type": "code",
      "execution_count": null,
      "id": "a631b310",
      "metadata": {
        "id": "a631b310",
        "outputId": "805412bc-34dc-405a-ba9c-5b7530cdc47a"
      },
      "outputs": [
        {
          "data": {
            "text/html": [
              "<div>\n",
              "<style scoped>\n",
              "    .dataframe tbody tr th:only-of-type {\n",
              "        vertical-align: middle;\n",
              "    }\n",
              "\n",
              "    .dataframe tbody tr th {\n",
              "        vertical-align: top;\n",
              "    }\n",
              "\n",
              "    .dataframe thead th {\n",
              "        text-align: right;\n",
              "    }\n",
              "</style>\n",
              "<table border=\"1\" class=\"dataframe\">\n",
              "  <thead>\n",
              "    <tr style=\"text-align: right;\">\n",
              "      <th></th>\n",
              "      <th>Company</th>\n",
              "      <th>Area 1</th>\n",
              "      <th>Area 2</th>\n",
              "      <th>Area 3</th>\n",
              "      <th>Area 3 Classification</th>\n",
              "      <th>Outlet Type</th>\n",
              "      <th>Product Category 2</th>\n",
              "      <th>Product</th>\n",
              "      <th>Units sold</th>\n",
              "      <th>Revenue</th>\n",
              "      <th>Commission</th>\n",
              "    </tr>\n",
              "  </thead>\n",
              "  <tbody>\n",
              "    <tr>\n",
              "      <th>0</th>\n",
              "      <td>white walkers</td>\n",
              "      <td>the westerlands</td>\n",
              "      <td>golden tooth</td>\n",
              "      <td>rivermen</td>\n",
              "      <td>lord of the crossing</td>\n",
              "      <td>house frey</td>\n",
              "      <td>bagels</td>\n",
              "      <td>white cabbage</td>\n",
              "      <td>2.495851</td>\n",
              "      <td>49717.353917</td>\n",
              "      <td>0.000000</td>\n",
              "    </tr>\n",
              "    <tr>\n",
              "      <th>1</th>\n",
              "      <td>white walkers</td>\n",
              "      <td>the riverlands</td>\n",
              "      <td>mummer's ford</td>\n",
              "      <td>dornish</td>\n",
              "      <td>ser</td>\n",
              "      <td>house swyft</td>\n",
              "      <td>chicken bouillon granules</td>\n",
              "      <td>rye</td>\n",
              "      <td>45.198292</td>\n",
              "      <td>249494.572083</td>\n",
              "      <td>0.000000</td>\n",
              "    </tr>\n",
              "    <tr>\n",
              "      <th>2</th>\n",
              "      <td>men</td>\n",
              "      <td>the north</td>\n",
              "      <td>riverrun</td>\n",
              "      <td>valyrian</td>\n",
              "      <td>ser</td>\n",
              "      <td>house arryn</td>\n",
              "      <td>dry yeast</td>\n",
              "      <td>wheels</td>\n",
              "      <td>2.475006</td>\n",
              "      <td>54351.125584</td>\n",
              "      <td>4393.135151</td>\n",
              "    </tr>\n",
              "    <tr>\n",
              "      <th>3</th>\n",
              "      <td>white walkers</td>\n",
              "      <td>the stormlands</td>\n",
              "      <td>green fork</td>\n",
              "      <td>ironborn</td>\n",
              "      <td>lord of the crossing</td>\n",
              "      <td>house santagar</td>\n",
              "      <td>chicken bouillon granules</td>\n",
              "      <td>cola soft drink</td>\n",
              "      <td>4.980233</td>\n",
              "      <td>33467.167489</td>\n",
              "      <td>0.000000</td>\n",
              "    </tr>\n",
              "    <tr>\n",
              "      <th>4</th>\n",
              "      <td>white walkers</td>\n",
              "      <td>the crownlands</td>\n",
              "      <td>whispering wood</td>\n",
              "      <td>free folk</td>\n",
              "      <td>ser</td>\n",
              "      <td>house targaryen</td>\n",
              "      <td>field peas</td>\n",
              "      <td>mexican oregano</td>\n",
              "      <td>2.482338</td>\n",
              "      <td>27256.068984</td>\n",
              "      <td>0.000000</td>\n",
              "    </tr>\n",
              "  </tbody>\n",
              "</table>\n",
              "</div>"
            ],
            "text/plain": [
              "         Company           Area 1           Area 2     Area 3  \\\n",
              "0  white walkers  the westerlands     golden tooth   rivermen   \n",
              "1  white walkers   the riverlands    mummer's ford    dornish   \n",
              "2            men        the north         riverrun   valyrian   \n",
              "3  white walkers   the stormlands       green fork   ironborn   \n",
              "4  white walkers   the crownlands  whispering wood  free folk   \n",
              "\n",
              "  Area 3 Classification      Outlet Type         Product Category 2  \\\n",
              "0  lord of the crossing       house frey                     bagels   \n",
              "1                   ser      house swyft  chicken bouillon granules   \n",
              "2                   ser      house arryn                  dry yeast   \n",
              "3  lord of the crossing   house santagar  chicken bouillon granules   \n",
              "4                   ser  house targaryen                 field peas   \n",
              "\n",
              "           Product  Units sold        Revenue   Commission  \n",
              "0    white cabbage    2.495851   49717.353917     0.000000  \n",
              "1              rye   45.198292  249494.572083     0.000000  \n",
              "2           wheels    2.475006   54351.125584  4393.135151  \n",
              "3  cola soft drink    4.980233   33467.167489     0.000000  \n",
              "4  mexican oregano    2.482338   27256.068984     0.000000  "
            ]
          },
          "execution_count": 13,
          "metadata": {},
          "output_type": "execute_result"
        }
      ],
      "source": [
        "df.head()"
      ]
    },
    {
      "cell_type": "code",
      "execution_count": null,
      "id": "ec087967",
      "metadata": {
        "scrolled": true,
        "id": "ec087967",
        "outputId": "61b62b83-6ceb-49d0-c640-304f2d0978bf"
      },
      "outputs": [
        {
          "data": {
            "text/html": [
              "<div>\n",
              "<style scoped>\n",
              "    .dataframe tbody tr th:only-of-type {\n",
              "        vertical-align: middle;\n",
              "    }\n",
              "\n",
              "    .dataframe tbody tr th {\n",
              "        vertical-align: top;\n",
              "    }\n",
              "\n",
              "    .dataframe thead th {\n",
              "        text-align: right;\n",
              "    }\n",
              "</style>\n",
              "<table border=\"1\" class=\"dataframe\">\n",
              "  <thead>\n",
              "    <tr style=\"text-align: right;\">\n",
              "      <th></th>\n",
              "      <th>Commission</th>\n",
              "    </tr>\n",
              "    <tr>\n",
              "      <th>Area 1</th>\n",
              "      <th></th>\n",
              "    </tr>\n",
              "  </thead>\n",
              "  <tbody>\n",
              "    <tr>\n",
              "      <th>beyond the wall</th>\n",
              "      <td>4.825371e+08</td>\n",
              "    </tr>\n",
              "    <tr>\n",
              "      <th>the crownlands</th>\n",
              "      <td>6.289971e+08</td>\n",
              "    </tr>\n",
              "    <tr>\n",
              "      <th>the north</th>\n",
              "      <td>3.092621e+08</td>\n",
              "    </tr>\n",
              "    <tr>\n",
              "      <th>the riverlands</th>\n",
              "      <td>6.004722e+08</td>\n",
              "    </tr>\n",
              "    <tr>\n",
              "      <th>the stormlands</th>\n",
              "      <td>7.725636e+08</td>\n",
              "    </tr>\n",
              "    <tr>\n",
              "      <th>the westerlands</th>\n",
              "      <td>9.581844e+08</td>\n",
              "    </tr>\n",
              "  </tbody>\n",
              "</table>\n",
              "</div>"
            ],
            "text/plain": [
              "                   Commission\n",
              "Area 1                       \n",
              "beyond the wall  4.825371e+08\n",
              "the crownlands   6.289971e+08\n",
              "the north        3.092621e+08\n",
              "the riverlands   6.004722e+08\n",
              "the stormlands   7.725636e+08\n",
              "the westerlands  9.581844e+08"
            ]
          },
          "execution_count": 14,
          "metadata": {},
          "output_type": "execute_result"
        }
      ],
      "source": [
        "#group by Area1(region)\n",
        "df[['Area 1','Commission']].groupby(['Area 1']).sum()"
      ]
    },
    {
      "cell_type": "code",
      "execution_count": null,
      "id": "9ce4c504",
      "metadata": {
        "id": "9ce4c504",
        "outputId": "2ce43480-c597-4e99-8da0-53714bc3c37b"
      },
      "outputs": [
        {
          "data": {
            "text/plain": [
              "<AxesSubplot:xlabel='Area 1'>"
            ]
          },
          "execution_count": 15,
          "metadata": {},
          "output_type": "execute_result"
        },
        {
          "data": {
            "image/png": "[encoded data removed]",
            "text/plain": [
              "<Figure size 432x288 with 1 Axes>"
            ]
          },
          "metadata": {
            "needs_background": "light"
          },
          "output_type": "display_data"
        }
      ],
      "source": [
        "df[['Area 1','Commission']].groupby(['Area 1']).mean().plot(kind='bar')"
      ]
    },
    {
      "cell_type": "markdown",
      "id": "da402726",
      "metadata": {
        "id": "da402726"
      },
      "source": [
        "# Inference \n",
        "The westerlands has the most commision while the north has the least commission"
      ]
    },
    {
      "cell_type": "code",
      "execution_count": null,
      "id": "35629701",
      "metadata": {
        "id": "35629701",
        "outputId": "7d80585f-e199-46b1-9db8-46007e28bb00"
      },
      "outputs": [
        {
          "data": {
            "text/html": [
              "<div>\n",
              "<style scoped>\n",
              "    .dataframe tbody tr th:only-of-type {\n",
              "        vertical-align: middle;\n",
              "    }\n",
              "\n",
              "    .dataframe tbody tr th {\n",
              "        vertical-align: top;\n",
              "    }\n",
              "\n",
              "    .dataframe thead th {\n",
              "        text-align: right;\n",
              "    }\n",
              "</style>\n",
              "<table border=\"1\" class=\"dataframe\">\n",
              "  <thead>\n",
              "    <tr style=\"text-align: right;\">\n",
              "      <th></th>\n",
              "      <th>Commission</th>\n",
              "    </tr>\n",
              "    <tr>\n",
              "      <th>Area 2</th>\n",
              "      <th></th>\n",
              "    </tr>\n",
              "  </thead>\n",
              "  <tbody>\n",
              "    <tr>\n",
              "      <th>darry</th>\n",
              "      <td>4.535624e+08</td>\n",
              "    </tr>\n",
              "    <tr>\n",
              "      <th>deepwood motte</th>\n",
              "      <td>4.825371e+08</td>\n",
              "    </tr>\n",
              "    <tr>\n",
              "      <th>golden tooth</th>\n",
              "      <td>3.241037e+08</td>\n",
              "    </tr>\n",
              "    <tr>\n",
              "      <th>green fork</th>\n",
              "      <td>3.581434e+08</td>\n",
              "    </tr>\n",
              "    <tr>\n",
              "      <th>harrenhal</th>\n",
              "      <td>2.830542e+08</td>\n",
              "    </tr>\n",
              "    <tr>\n",
              "      <th>moat cailin</th>\n",
              "      <td>1.494397e+08</td>\n",
              "    </tr>\n",
              "    <tr>\n",
              "      <th>mummer's ford</th>\n",
              "      <td>1.469098e+08</td>\n",
              "    </tr>\n",
              "    <tr>\n",
              "      <th>oxcross</th>\n",
              "      <td>1.313660e+08</td>\n",
              "    </tr>\n",
              "    <tr>\n",
              "      <th>red fork</th>\n",
              "      <td>3.976248e+08</td>\n",
              "    </tr>\n",
              "    <tr>\n",
              "      <th>riverrun</th>\n",
              "      <td>6.963742e+07</td>\n",
              "    </tr>\n",
              "    <tr>\n",
              "      <th>stony shore</th>\n",
              "      <td>1.903770e+08</td>\n",
              "    </tr>\n",
              "    <tr>\n",
              "      <th>storm's end</th>\n",
              "      <td>9.018495e+07</td>\n",
              "    </tr>\n",
              "    <tr>\n",
              "      <th>torrhen's square</th>\n",
              "      <td>2.364559e+08</td>\n",
              "    </tr>\n",
              "    <tr>\n",
              "      <th>whispering wood</th>\n",
              "      <td>2.051125e+08</td>\n",
              "    </tr>\n",
              "    <tr>\n",
              "      <th>winterfell</th>\n",
              "      <td>2.335076e+08</td>\n",
              "    </tr>\n",
              "  </tbody>\n",
              "</table>\n",
              "</div>"
            ],
            "text/plain": [
              "                    Commission\n",
              "Area 2                        \n",
              "darry             4.535624e+08\n",
              "deepwood motte    4.825371e+08\n",
              "golden tooth      3.241037e+08\n",
              "green fork        3.581434e+08\n",
              "harrenhal         2.830542e+08\n",
              "moat cailin       1.494397e+08\n",
              "mummer's ford     1.469098e+08\n",
              "oxcross           1.313660e+08\n",
              "red fork          3.976248e+08\n",
              "riverrun          6.963742e+07\n",
              "stony shore       1.903770e+08\n",
              "storm's end       9.018495e+07\n",
              "torrhen's square  2.364559e+08\n",
              "whispering wood   2.051125e+08\n",
              "winterfell        2.335076e+08"
            ]
          },
          "execution_count": 16,
          "metadata": {},
          "output_type": "execute_result"
        }
      ],
      "source": [
        "#group by states\n",
        "df[['Area 2','Commission']].groupby(['Area 2']).sum()"
      ]
    },
    {
      "cell_type": "code",
      "execution_count": null,
      "id": "2794f885",
      "metadata": {
        "scrolled": true,
        "id": "2794f885",
        "outputId": "083db546-4286-4b27-f0f7-3e823f39b283"
      },
      "outputs": [
        {
          "data": {
            "text/plain": [
              "<AxesSubplot:xlabel='Area 2'>"
            ]
          },
          "execution_count": 17,
          "metadata": {},
          "output_type": "execute_result"
        },
        {
          "data": {
            "image/png": "[encoded data removed]",
            "text/plain": [
              "<Figure size 432x288 with 1 Axes>"
            ]
          },
          "metadata": {
            "needs_background": "light"
          },
          "output_type": "display_data"
        }
      ],
      "source": [
        "df[['Area 2','Commission']].groupby(['Area 2']).sum().plot(kind='bar')"
      ]
    },
    {
      "cell_type": "markdown",
      "id": "61f827ee",
      "metadata": {
        "id": "61f827ee"
      },
      "source": [
        "# Inference\n",
        "Golden tooth,green fork,red fork along with torrhen's square  and harrenhal have high commissions"
      ]
    },
    {
      "cell_type": "code",
      "execution_count": null,
      "id": "cca0baf1",
      "metadata": {
        "scrolled": true,
        "id": "cca0baf1",
        "outputId": "02e3a3be-f12c-44ef-d4b1-74060e452996"
      },
      "outputs": [
        {
          "data": {
            "text/html": [
              "<div>\n",
              "<style scoped>\n",
              "    .dataframe tbody tr th:only-of-type {\n",
              "        vertical-align: middle;\n",
              "    }\n",
              "\n",
              "    .dataframe tbody tr th {\n",
              "        vertical-align: top;\n",
              "    }\n",
              "\n",
              "    .dataframe thead th {\n",
              "        text-align: right;\n",
              "    }\n",
              "</style>\n",
              "<table border=\"1\" class=\"dataframe\">\n",
              "  <thead>\n",
              "    <tr style=\"text-align: right;\">\n",
              "      <th></th>\n",
              "      <th>Commission</th>\n",
              "    </tr>\n",
              "    <tr>\n",
              "      <th>Area 3</th>\n",
              "      <th></th>\n",
              "    </tr>\n",
              "  </thead>\n",
              "  <tbody>\n",
              "    <tr>\n",
              "      <th>KHAMMAM [TWN]</th>\n",
              "      <td>5.797931e+04</td>\n",
              "    </tr>\n",
              "    <tr>\n",
              "      <th>NALGONDA-2 [TWN]</th>\n",
              "      <td>3.453176e+04</td>\n",
              "    </tr>\n",
              "    <tr>\n",
              "      <th>Secunderabad (CB)</th>\n",
              "      <td>5.677825e+06</td>\n",
              "    </tr>\n",
              "    <tr>\n",
              "      <th>Utnur (CT)</th>\n",
              "      <td>2.117658e+06</td>\n",
              "    </tr>\n",
              "    <tr>\n",
              "      <th>Vicarabad (M)</th>\n",
              "      <td>4.662132e+04</td>\n",
              "    </tr>\n",
              "    <tr>\n",
              "      <th>...</th>\n",
              "      <td>...</td>\n",
              "    </tr>\n",
              "    <tr>\n",
              "      <th>westerman</th>\n",
              "      <td>1.032425e+08</td>\n",
              "    </tr>\n",
              "    <tr>\n",
              "      <th>westermen</th>\n",
              "      <td>1.203562e+08</td>\n",
              "    </tr>\n",
              "    <tr>\n",
              "      <th>westeros</th>\n",
              "      <td>2.616556e+07</td>\n",
              "    </tr>\n",
              "    <tr>\n",
              "      <th>wildling</th>\n",
              "      <td>1.310826e+07</td>\n",
              "    </tr>\n",
              "    <tr>\n",
              "      <th>wildlings</th>\n",
              "      <td>1.601298e+07</td>\n",
              "    </tr>\n",
              "  </tbody>\n",
              "</table>\n",
              "<p>64 rows × 1 columns</p>\n",
              "</div>"
            ],
            "text/plain": [
              "                     Commission\n",
              "Area 3                         \n",
              "KHAMMAM [TWN]      5.797931e+04\n",
              "NALGONDA-2 [TWN]   3.453176e+04\n",
              "Secunderabad (CB)  5.677825e+06\n",
              "Utnur (CT)         2.117658e+06\n",
              "Vicarabad (M)      4.662132e+04\n",
              "...                         ...\n",
              "westerman          1.032425e+08\n",
              "westermen          1.203562e+08\n",
              "westeros           2.616556e+07\n",
              "wildling           1.310826e+07\n",
              "wildlings          1.601298e+07\n",
              "\n",
              "[64 rows x 1 columns]"
            ]
          },
          "execution_count": 18,
          "metadata": {},
          "output_type": "execute_result"
        }
      ],
      "source": [
        "#group by city\n",
        "df[['Area 3','Commission']].groupby(['Area 3']).sum()"
      ]
    },
    {
      "cell_type": "code",
      "execution_count": null,
      "id": "e42cb42e",
      "metadata": {
        "scrolled": true,
        "id": "e42cb42e",
        "outputId": "7a65787e-daca-47c1-e67c-91872c2ac532"
      },
      "outputs": [
        {
          "data": {
            "text/plain": [
              "<AxesSubplot:xlabel='Area 3'>"
            ]
          },
          "execution_count": 19,
          "metadata": {},
          "output_type": "execute_result"
        },
        {
          "data": {
            "image/png": "[encoded data removed]",
            "text/plain": [
              "<Figure size 1440x720 with 1 Axes>"
            ]
          },
          "metadata": {
            "needs_background": "light"
          },
          "output_type": "display_data"
        }
      ],
      "source": [
        "df[['Area 3','Commission']].groupby(['Area 3']).sum().plot(kind='bar',figsize=(20,10))"
      ]
    },
    {
      "cell_type": "markdown",
      "id": "835ed6c8",
      "metadata": {
        "id": "835ed6c8"
      },
      "source": [
        "# Inference\n",
        "Secunderabad has highest commission"
      ]
    },
    {
      "cell_type": "code",
      "execution_count": null,
      "id": "eabfd140",
      "metadata": {
        "id": "eabfd140",
        "outputId": "4b9f59f9-a0b7-41db-dc03-8d19ecf829c3"
      },
      "outputs": [
        {
          "data": {
            "text/html": [
              "<div>\n",
              "<style scoped>\n",
              "    .dataframe tbody tr th:only-of-type {\n",
              "        vertical-align: middle;\n",
              "    }\n",
              "\n",
              "    .dataframe tbody tr th {\n",
              "        vertical-align: top;\n",
              "    }\n",
              "\n",
              "    .dataframe thead th {\n",
              "        text-align: right;\n",
              "    }\n",
              "</style>\n",
              "<table border=\"1\" class=\"dataframe\">\n",
              "  <thead>\n",
              "    <tr style=\"text-align: right;\">\n",
              "      <th></th>\n",
              "      <th>Commission</th>\n",
              "    </tr>\n",
              "    <tr>\n",
              "      <th>Area 3 Classification</th>\n",
              "      <th></th>\n",
              "    </tr>\n",
              "  </thead>\n",
              "  <tbody>\n",
              "    <tr>\n",
              "      <th>archmaester</th>\n",
              "      <td>1.816569e+08</td>\n",
              "    </tr>\n",
              "    <tr>\n",
              "      <th>greenstone</th>\n",
              "      <td>3.371609e+08</td>\n",
              "    </tr>\n",
              "    <tr>\n",
              "      <th>hand of the king</th>\n",
              "      <td>2.953084e+08</td>\n",
              "    </tr>\n",
              "    <tr>\n",
              "      <th>khal</th>\n",
              "      <td>2.391985e+06</td>\n",
              "    </tr>\n",
              "    <tr>\n",
              "      <th>lord of the crossing</th>\n",
              "      <td>1.609812e+09</td>\n",
              "    </tr>\n",
              "    <tr>\n",
              "      <th>maester</th>\n",
              "      <td>3.252525e+08</td>\n",
              "    </tr>\n",
              "    <tr>\n",
              "      <th>queen</th>\n",
              "      <td>3.053739e+08</td>\n",
              "    </tr>\n",
              "    <tr>\n",
              "      <th>ser</th>\n",
              "      <td>6.950602e+08</td>\n",
              "    </tr>\n",
              "  </tbody>\n",
              "</table>\n",
              "</div>"
            ],
            "text/plain": [
              "                         Commission\n",
              "Area 3 Classification              \n",
              "archmaester            1.816569e+08\n",
              "greenstone             3.371609e+08\n",
              "hand of the king       2.953084e+08\n",
              "khal                   2.391985e+06\n",
              "lord of the crossing   1.609812e+09\n",
              "maester                3.252525e+08\n",
              "queen                  3.053739e+08\n",
              "ser                    6.950602e+08"
            ]
          },
          "execution_count": 20,
          "metadata": {},
          "output_type": "execute_result"
        }
      ],
      "source": [
        "#group by class of city\n",
        "df[['Area 3 Classification','Commission']].groupby(['Area 3 Classification']).sum()\n"
      ]
    },
    {
      "cell_type": "code",
      "execution_count": null,
      "id": "67ea1442",
      "metadata": {
        "scrolled": true,
        "id": "67ea1442",
        "outputId": "71da9c5c-6040-4e50-ce68-01152cda0130"
      },
      "outputs": [
        {
          "data": {
            "text/plain": [
              "<AxesSubplot:xlabel='Area 3 Classification'>"
            ]
          },
          "execution_count": 21,
          "metadata": {},
          "output_type": "execute_result"
        },
        {
          "data": {
            "image/png": "[encoded data removed]",
            "text/plain": [
              "<Figure size 432x288 with 1 Axes>"
            ]
          },
          "metadata": {
            "needs_background": "light"
          },
          "output_type": "display_data"
        }
      ],
      "source": [
        "df[['Area 3 Classification','Commission']].groupby(['Area 3 Classification']).sum().plot(kind='bar')"
      ]
    },
    {
      "cell_type": "markdown",
      "id": "c92e26ba",
      "metadata": {
        "id": "c92e26ba"
      },
      "source": [
        "# Inference\n",
        "Queen and lord of the crossing have the highest commissions"
      ]
    },
    {
      "cell_type": "code",
      "execution_count": null,
      "id": "b93e5635",
      "metadata": {
        "id": "b93e5635",
        "outputId": "42d961fc-75fd-4974-f51d-efe7cd6c5bee"
      },
      "outputs": [
        {
          "data": {
            "text/html": [
              "<div>\n",
              "<style scoped>\n",
              "    .dataframe tbody tr th:only-of-type {\n",
              "        vertical-align: middle;\n",
              "    }\n",
              "\n",
              "    .dataframe tbody tr th {\n",
              "        vertical-align: top;\n",
              "    }\n",
              "\n",
              "    .dataframe thead th {\n",
              "        text-align: right;\n",
              "    }\n",
              "</style>\n",
              "<table border=\"1\" class=\"dataframe\">\n",
              "  <thead>\n",
              "    <tr style=\"text-align: right;\">\n",
              "      <th></th>\n",
              "      <th>Company</th>\n",
              "      <th>Area 1</th>\n",
              "      <th>Area 2</th>\n",
              "      <th>Area 3 Classification</th>\n",
              "      <th>Outlet Type</th>\n",
              "      <th>Product Category 2</th>\n",
              "      <th>Product</th>\n",
              "      <th>Units sold</th>\n",
              "      <th>Revenue</th>\n",
              "      <th>Commission</th>\n",
              "    </tr>\n",
              "  </thead>\n",
              "  <tbody>\n",
              "    <tr>\n",
              "      <th>0</th>\n",
              "      <td>white walkers</td>\n",
              "      <td>the westerlands</td>\n",
              "      <td>golden tooth</td>\n",
              "      <td>lord of the crossing</td>\n",
              "      <td>house frey</td>\n",
              "      <td>bagels</td>\n",
              "      <td>white cabbage</td>\n",
              "      <td>2.495851</td>\n",
              "      <td>49717.353917</td>\n",
              "      <td>0.000000</td>\n",
              "    </tr>\n",
              "    <tr>\n",
              "      <th>1</th>\n",
              "      <td>white walkers</td>\n",
              "      <td>the riverlands</td>\n",
              "      <td>mummer's ford</td>\n",
              "      <td>ser</td>\n",
              "      <td>house swyft</td>\n",
              "      <td>chicken bouillon granules</td>\n",
              "      <td>rye</td>\n",
              "      <td>45.198292</td>\n",
              "      <td>249494.572083</td>\n",
              "      <td>0.000000</td>\n",
              "    </tr>\n",
              "    <tr>\n",
              "      <th>2</th>\n",
              "      <td>men</td>\n",
              "      <td>the north</td>\n",
              "      <td>riverrun</td>\n",
              "      <td>ser</td>\n",
              "      <td>house arryn</td>\n",
              "      <td>dry yeast</td>\n",
              "      <td>wheels</td>\n",
              "      <td>2.475006</td>\n",
              "      <td>54351.125584</td>\n",
              "      <td>4393.135151</td>\n",
              "    </tr>\n",
              "    <tr>\n",
              "      <th>3</th>\n",
              "      <td>white walkers</td>\n",
              "      <td>the stormlands</td>\n",
              "      <td>green fork</td>\n",
              "      <td>lord of the crossing</td>\n",
              "      <td>house santagar</td>\n",
              "      <td>chicken bouillon granules</td>\n",
              "      <td>cola soft drink</td>\n",
              "      <td>4.980233</td>\n",
              "      <td>33467.167489</td>\n",
              "      <td>0.000000</td>\n",
              "    </tr>\n",
              "    <tr>\n",
              "      <th>4</th>\n",
              "      <td>white walkers</td>\n",
              "      <td>the crownlands</td>\n",
              "      <td>whispering wood</td>\n",
              "      <td>ser</td>\n",
              "      <td>house targaryen</td>\n",
              "      <td>field peas</td>\n",
              "      <td>mexican oregano</td>\n",
              "      <td>2.482338</td>\n",
              "      <td>27256.068984</td>\n",
              "      <td>0.000000</td>\n",
              "    </tr>\n",
              "  </tbody>\n",
              "</table>\n",
              "</div>"
            ],
            "text/plain": [
              "         Company           Area 1           Area 2 Area 3 Classification  \\\n",
              "0  white walkers  the westerlands     golden tooth  lord of the crossing   \n",
              "1  white walkers   the riverlands    mummer's ford                   ser   \n",
              "2            men        the north         riverrun                   ser   \n",
              "3  white walkers   the stormlands       green fork  lord of the crossing   \n",
              "4  white walkers   the crownlands  whispering wood                   ser   \n",
              "\n",
              "       Outlet Type         Product Category 2          Product  Units sold  \\\n",
              "0       house frey                     bagels    white cabbage    2.495851   \n",
              "1      house swyft  chicken bouillon granules              rye   45.198292   \n",
              "2      house arryn                  dry yeast           wheels    2.475006   \n",
              "3   house santagar  chicken bouillon granules  cola soft drink    4.980233   \n",
              "4  house targaryen                 field peas  mexican oregano    2.482338   \n",
              "\n",
              "         Revenue   Commission  \n",
              "0   49717.353917     0.000000  \n",
              "1  249494.572083     0.000000  \n",
              "2   54351.125584  4393.135151  \n",
              "3   33467.167489     0.000000  \n",
              "4   27256.068984     0.000000  "
            ]
          },
          "execution_count": 22,
          "metadata": {},
          "output_type": "execute_result"
        }
      ],
      "source": [
        "df.drop(['Area 3'],axis=1,inplace=True)\n",
        "df.head()"
      ]
    },
    {
      "cell_type": "code",
      "execution_count": null,
      "id": "b0d31d02",
      "metadata": {
        "id": "b0d31d02",
        "outputId": "fcb7f8e9-70c9-4794-c1f5-47cdab56e324"
      },
      "outputs": [
        {
          "data": {
            "text/html": [
              "<div>\n",
              "<style scoped>\n",
              "    .dataframe tbody tr th:only-of-type {\n",
              "        vertical-align: middle;\n",
              "    }\n",
              "\n",
              "    .dataframe tbody tr th {\n",
              "        vertical-align: top;\n",
              "    }\n",
              "\n",
              "    .dataframe thead th {\n",
              "        text-align: right;\n",
              "    }\n",
              "</style>\n",
              "<table border=\"1\" class=\"dataframe\">\n",
              "  <thead>\n",
              "    <tr style=\"text-align: right;\">\n",
              "      <th></th>\n",
              "      <th>Commission</th>\n",
              "    </tr>\n",
              "    <tr>\n",
              "      <th>Outlet Type</th>\n",
              "      <th></th>\n",
              "    </tr>\n",
              "  </thead>\n",
              "  <tbody>\n",
              "    <tr>\n",
              "      <th>brotherhood without banners</th>\n",
              "      <td>2.335076e+08</td>\n",
              "    </tr>\n",
              "    <tr>\n",
              "      <th>happy port</th>\n",
              "      <td>3.899800e+07</td>\n",
              "    </tr>\n",
              "    <tr>\n",
              "      <th>house arryn</th>\n",
              "      <td>6.963742e+07</td>\n",
              "    </tr>\n",
              "    <tr>\n",
              "      <th>house dayne</th>\n",
              "      <td>1.248275e+08</td>\n",
              "    </tr>\n",
              "    <tr>\n",
              "      <th>house farwynd of the lonely light</th>\n",
              "      <td>0.000000e+00</td>\n",
              "    </tr>\n",
              "    <tr>\n",
              "      <th>house fell</th>\n",
              "      <td>3.926436e+08</td>\n",
              "    </tr>\n",
              "    <tr>\n",
              "      <th>house frey</th>\n",
              "      <td>3.313567e+08</td>\n",
              "    </tr>\n",
              "    <tr>\n",
              "      <th>house greyjoy</th>\n",
              "      <td>2.343711e+08</td>\n",
              "    </tr>\n",
              "    <tr>\n",
              "      <th>house humble</th>\n",
              "      <td>2.496228e+08</td>\n",
              "    </tr>\n",
              "    <tr>\n",
              "      <th>house manderly</th>\n",
              "      <td>2.721290e+08</td>\n",
              "    </tr>\n",
              "    <tr>\n",
              "      <th>house osgrey</th>\n",
              "      <td>2.334520e+08</td>\n",
              "    </tr>\n",
              "    <tr>\n",
              "      <th>house santagar</th>\n",
              "      <td>3.723248e+08</td>\n",
              "    </tr>\n",
              "    <tr>\n",
              "      <th>house stark</th>\n",
              "      <td>8.823953e+07</td>\n",
              "    </tr>\n",
              "    <tr>\n",
              "      <th>house swyft</th>\n",
              "      <td>1.469098e+08</td>\n",
              "    </tr>\n",
              "    <tr>\n",
              "      <th>house targaryen</th>\n",
              "      <td>2.050067e+08</td>\n",
              "    </tr>\n",
              "    <tr>\n",
              "      <th>house waynwood</th>\n",
              "      <td>2.201104e+08</td>\n",
              "    </tr>\n",
              "    <tr>\n",
              "      <th>house webber</th>\n",
              "      <td>1.279669e+08</td>\n",
              "    </tr>\n",
              "    <tr>\n",
              "      <th>house wode</th>\n",
              "      <td>1.100323e+08</td>\n",
              "    </tr>\n",
              "    <tr>\n",
              "      <th>house wylde</th>\n",
              "      <td>1.514406e+08</td>\n",
              "    </tr>\n",
              "    <tr>\n",
              "      <th>night's watch</th>\n",
              "      <td>1.494397e+08</td>\n",
              "    </tr>\n",
              "  </tbody>\n",
              "</table>\n",
              "</div>"
            ],
            "text/plain": [
              "                                     Commission\n",
              "Outlet Type                                    \n",
              "brotherhood without banners        2.335076e+08\n",
              "happy port                         3.899800e+07\n",
              "house arryn                        6.963742e+07\n",
              "house dayne                        1.248275e+08\n",
              "house farwynd of the lonely light  0.000000e+00\n",
              "house fell                         3.926436e+08\n",
              "house frey                         3.313567e+08\n",
              "house greyjoy                      2.343711e+08\n",
              "house humble                       2.496228e+08\n",
              "house manderly                     2.721290e+08\n",
              "house osgrey                       2.334520e+08\n",
              "house santagar                     3.723248e+08\n",
              "house stark                        8.823953e+07\n",
              "house swyft                        1.469098e+08\n",
              "house targaryen                    2.050067e+08\n",
              "house waynwood                     2.201104e+08\n",
              "house webber                       1.279669e+08\n",
              "house wode                         1.100323e+08\n",
              "house wylde                        1.514406e+08\n",
              "night's watch                      1.494397e+08"
            ]
          },
          "execution_count": 23,
          "metadata": {},
          "output_type": "execute_result"
        }
      ],
      "source": [
        "df[['Outlet Type','Commission']].groupby(['Outlet Type']).sum()"
      ]
    },
    {
      "cell_type": "code",
      "execution_count": null,
      "id": "af337efd",
      "metadata": {
        "scrolled": true,
        "id": "af337efd",
        "outputId": "30ad2ab5-3df5-44a3-a953-f7c8fb22a53d"
      },
      "outputs": [
        {
          "data": {
            "text/plain": [
              "<AxesSubplot:xlabel='Outlet Type'>"
            ]
          },
          "execution_count": 24,
          "metadata": {},
          "output_type": "execute_result"
        },
        {
          "data": {
            "image/png": "[encoded data removed]",
            "text/plain": [
              "<Figure size 432x288 with 1 Axes>"
            ]
          },
          "metadata": {
            "needs_background": "light"
          },
          "output_type": "display_data"
        }
      ],
      "source": [
        "df[['Outlet Type','Commission']].groupby(['Outlet Type']).sum().plot(kind='bar')\n"
      ]
    },
    {
      "cell_type": "markdown",
      "id": "c15ece5e",
      "metadata": {
        "id": "c15ece5e"
      },
      "source": [
        "# Inference\n",
        "house frey,house fell,house manderly,house osgrey and house santagar have high commissions"
      ]
    },
    {
      "cell_type": "code",
      "execution_count": null,
      "id": "2ff45477",
      "metadata": {
        "id": "2ff45477",
        "outputId": "9b5e82d1-afbe-45f4-d1e8-ecb12be733f8"
      },
      "outputs": [
        {
          "data": {
            "text/plain": [
              "<AxesSubplot:>"
            ]
          },
          "execution_count": 25,
          "metadata": {},
          "output_type": "execute_result"
        },
        {
          "data": {
            "image/png": "[encoded data removed]",
            "text/plain": [
              "<Figure size 432x288 with 2 Axes>"
            ]
          },
          "metadata": {
            "needs_background": "light"
          },
          "output_type": "display_data"
        }
      ],
      "source": [
        "corr=df.corr()\n",
        "sns.heatmap(corr,annot=True)"
      ]
    },
    {
      "cell_type": "markdown",
      "id": "6b7d5623",
      "metadata": {
        "id": "6b7d5623"
      },
      "source": [
        "# Inference\n",
        "Units sold and revenue are highly correlated(+),while units sold and commisions are very less correlated"
      ]
    },
    {
      "cell_type": "code",
      "execution_count": null,
      "id": "f48386ff",
      "metadata": {
        "scrolled": false,
        "id": "f48386ff",
        "outputId": "216588df-308c-4986-8521-0e1b73ca1a3a"
      },
      "outputs": [
        {
          "data": {
            "image/png": "[encoded data removed]",
            "text/plain": [
              "<Figure size 1440x720 with 1 Axes>"
            ]
          },
          "metadata": {
            "needs_background": "light"
          },
          "output_type": "display_data"
        }
      ],
      "source": [
        "plt.figure(figsize=(20,10))\n",
        "ax=sns.barplot(x='Area 1',y='Commission',data=df,hue='Area 3 Classification')\n"
      ]
    },
    {
      "cell_type": "code",
      "execution_count": null,
      "id": "9a2e4d28",
      "metadata": {
        "id": "9a2e4d28",
        "outputId": "7d6c2b2b-01aa-4be0-8d1c-11763a086241"
      },
      "outputs": [
        {
          "data": {
            "image/png": "[encoded data removed]",
            "text/plain": [
              "<Figure size 1440x720 with 1 Axes>"
            ]
          },
          "metadata": {
            "needs_background": "light"
          },
          "output_type": "display_data"
        }
      ],
      "source": [
        "plt.figure(figsize=(20,10))\n",
        "ax=sns.barplot(x='Area 1',y='Commission',data=df,hue='Area 2')"
      ]
    },
    {
      "cell_type": "code",
      "execution_count": null,
      "id": "0feecf7b",
      "metadata": {
        "id": "0feecf7b",
        "outputId": "acdae403-a6c9-41de-8c82-0877a608286c"
      },
      "outputs": [
        {
          "data": {
            "image/png": "[encoded data removed]",
            "text/plain": [
              "<Figure size 1440x720 with 1 Axes>"
            ]
          },
          "metadata": {
            "needs_background": "light"
          },
          "output_type": "display_data"
        }
      ],
      "source": [
        "plt.figure(figsize=(20,10))\n",
        "ax=sns.barplot(x='Area 2',y='Commission',data=df,hue='Area 3 Classification')"
      ]
    },
    {
      "cell_type": "code",
      "execution_count": null,
      "id": "8536fd86",
      "metadata": {
        "scrolled": true,
        "id": "8536fd86",
        "outputId": "2f6307af-b5cc-474f-92e1-4b8bc51002d2"
      },
      "outputs": [
        {
          "data": {
            "text/html": [
              "<div>\n",
              "<style scoped>\n",
              "    .dataframe tbody tr th:only-of-type {\n",
              "        vertical-align: middle;\n",
              "    }\n",
              "\n",
              "    .dataframe tbody tr th {\n",
              "        vertical-align: top;\n",
              "    }\n",
              "\n",
              "    .dataframe thead th {\n",
              "        text-align: right;\n",
              "    }\n",
              "</style>\n",
              "<table border=\"1\" class=\"dataframe\">\n",
              "  <thead>\n",
              "    <tr style=\"text-align: right;\">\n",
              "      <th></th>\n",
              "      <th></th>\n",
              "      <th>Commission</th>\n",
              "    </tr>\n",
              "    <tr>\n",
              "      <th>Area 1</th>\n",
              "      <th>Area 3 Classification</th>\n",
              "      <th></th>\n",
              "    </tr>\n",
              "  </thead>\n",
              "  <tbody>\n",
              "    <tr>\n",
              "      <th rowspan=\"6\" valign=\"top\">beyond the wall</th>\n",
              "      <th>archmaester</th>\n",
              "      <td>2339.912392</td>\n",
              "    </tr>\n",
              "    <tr>\n",
              "      <th>greenstone</th>\n",
              "      <td>3246.224834</td>\n",
              "    </tr>\n",
              "    <tr>\n",
              "      <th>hand of the king</th>\n",
              "      <td>2270.173420</td>\n",
              "    </tr>\n",
              "    <tr>\n",
              "      <th>khal</th>\n",
              "      <td>2550.000501</td>\n",
              "    </tr>\n",
              "    <tr>\n",
              "      <th>maester</th>\n",
              "      <td>3185.184064</td>\n",
              "    </tr>\n",
              "    <tr>\n",
              "      <th>ser</th>\n",
              "      <td>2204.188573</td>\n",
              "    </tr>\n",
              "    <tr>\n",
              "      <th rowspan=\"4\" valign=\"top\">the crownlands</th>\n",
              "      <th>archmaester</th>\n",
              "      <td>3145.715056</td>\n",
              "    </tr>\n",
              "    <tr>\n",
              "      <th>hand of the king</th>\n",
              "      <td>2471.356578</td>\n",
              "    </tr>\n",
              "    <tr>\n",
              "      <th>maester</th>\n",
              "      <td>2370.974263</td>\n",
              "    </tr>\n",
              "    <tr>\n",
              "      <th>ser</th>\n",
              "      <td>3221.955250</td>\n",
              "    </tr>\n",
              "    <tr>\n",
              "      <th rowspan=\"6\" valign=\"top\">the north</th>\n",
              "      <th>archmaester</th>\n",
              "      <td>1740.425835</td>\n",
              "    </tr>\n",
              "    <tr>\n",
              "      <th>greenstone</th>\n",
              "      <td>3045.697569</td>\n",
              "    </tr>\n",
              "    <tr>\n",
              "      <th>hand of the king</th>\n",
              "      <td>2114.669670</td>\n",
              "    </tr>\n",
              "    <tr>\n",
              "      <th>khal</th>\n",
              "      <td>886.271105</td>\n",
              "    </tr>\n",
              "    <tr>\n",
              "      <th>maester</th>\n",
              "      <td>2485.330212</td>\n",
              "    </tr>\n",
              "    <tr>\n",
              "      <th>ser</th>\n",
              "      <td>2379.920252</td>\n",
              "    </tr>\n",
              "    <tr>\n",
              "      <th rowspan=\"6\" valign=\"top\">the riverlands</th>\n",
              "      <th>archmaester</th>\n",
              "      <td>2325.462885</td>\n",
              "    </tr>\n",
              "    <tr>\n",
              "      <th>hand of the king</th>\n",
              "      <td>2688.307320</td>\n",
              "    </tr>\n",
              "    <tr>\n",
              "      <th>khal</th>\n",
              "      <td>1348.356134</td>\n",
              "    </tr>\n",
              "    <tr>\n",
              "      <th>maester</th>\n",
              "      <td>2913.355053</td>\n",
              "    </tr>\n",
              "    <tr>\n",
              "      <th>queen</th>\n",
              "      <td>4428.468285</td>\n",
              "    </tr>\n",
              "    <tr>\n",
              "      <th>ser</th>\n",
              "      <td>4735.252710</td>\n",
              "    </tr>\n",
              "    <tr>\n",
              "      <th rowspan=\"4\" valign=\"top\">the stormlands</th>\n",
              "      <th>archmaester</th>\n",
              "      <td>2039.562729</td>\n",
              "    </tr>\n",
              "    <tr>\n",
              "      <th>lord of the crossing</th>\n",
              "      <td>4260.479961</td>\n",
              "    </tr>\n",
              "    <tr>\n",
              "      <th>maester</th>\n",
              "      <td>317.151869</td>\n",
              "    </tr>\n",
              "    <tr>\n",
              "      <th>ser</th>\n",
              "      <td>1599.182983</td>\n",
              "    </tr>\n",
              "    <tr>\n",
              "      <th rowspan=\"4\" valign=\"top\">the westerlands</th>\n",
              "      <th>archmaester</th>\n",
              "      <td>3034.770382</td>\n",
              "    </tr>\n",
              "    <tr>\n",
              "      <th>greenstone</th>\n",
              "      <td>10437.177777</td>\n",
              "    </tr>\n",
              "    <tr>\n",
              "      <th>hand of the king</th>\n",
              "      <td>2791.968952</td>\n",
              "    </tr>\n",
              "    <tr>\n",
              "      <th>lord of the crossing</th>\n",
              "      <td>5159.828892</td>\n",
              "    </tr>\n",
              "  </tbody>\n",
              "</table>\n",
              "</div>"
            ],
            "text/plain": [
              "                                         Commission\n",
              "Area 1          Area 3 Classification              \n",
              "beyond the wall archmaester             2339.912392\n",
              "                greenstone              3246.224834\n",
              "                hand of the king        2270.173420\n",
              "                khal                    2550.000501\n",
              "                maester                 3185.184064\n",
              "                ser                     2204.188573\n",
              "the crownlands  archmaester             3145.715056\n",
              "                hand of the king        2471.356578\n",
              "                maester                 2370.974263\n",
              "                ser                     3221.955250\n",
              "the north       archmaester             1740.425835\n",
              "                greenstone              3045.697569\n",
              "                hand of the king        2114.669670\n",
              "                khal                     886.271105\n",
              "                maester                 2485.330212\n",
              "                ser                     2379.920252\n",
              "the riverlands  archmaester             2325.462885\n",
              "                hand of the king        2688.307320\n",
              "                khal                    1348.356134\n",
              "                maester                 2913.355053\n",
              "                queen                   4428.468285\n",
              "                ser                     4735.252710\n",
              "the stormlands  archmaester             2039.562729\n",
              "                lord of the crossing    4260.479961\n",
              "                maester                  317.151869\n",
              "                ser                     1599.182983\n",
              "the westerlands archmaester             3034.770382\n",
              "                greenstone             10437.177777\n",
              "                hand of the king        2791.968952\n",
              "                lord of the crossing    5159.828892"
            ]
          },
          "execution_count": 29,
          "metadata": {},
          "output_type": "execute_result"
        }
      ],
      "source": [
        "df[['Area 1','Area 3 Classification','Commission']].groupby(['Area 1','Area 3 Classification']).mean()"
      ]
    },
    {
      "cell_type": "markdown",
      "id": "6c0e9db8",
      "metadata": {
        "id": "6c0e9db8"
      },
      "source": [
        "# Inference\n",
        "Area 1 can be removed ,no such relationship to commissions\n"
      ]
    },
    {
      "cell_type": "code",
      "execution_count": null,
      "id": "18361987",
      "metadata": {
        "id": "18361987",
        "outputId": "9954d307-7aa9-404d-f42b-e61f893cee6d"
      },
      "outputs": [
        {
          "data": {
            "text/html": [
              "<div>\n",
              "<style scoped>\n",
              "    .dataframe tbody tr th:only-of-type {\n",
              "        vertical-align: middle;\n",
              "    }\n",
              "\n",
              "    .dataframe tbody tr th {\n",
              "        vertical-align: top;\n",
              "    }\n",
              "\n",
              "    .dataframe thead th {\n",
              "        text-align: right;\n",
              "    }\n",
              "</style>\n",
              "<table border=\"1\" class=\"dataframe\">\n",
              "  <thead>\n",
              "    <tr style=\"text-align: right;\">\n",
              "      <th></th>\n",
              "      <th>Company</th>\n",
              "      <th>Area 1</th>\n",
              "      <th>Area 2</th>\n",
              "      <th>Area 3 Classification</th>\n",
              "      <th>Outlet Type</th>\n",
              "      <th>Product Category 2</th>\n",
              "      <th>Product</th>\n",
              "      <th>Units sold</th>\n",
              "      <th>Revenue</th>\n",
              "      <th>Commission</th>\n",
              "      <th>Price per unit</th>\n",
              "    </tr>\n",
              "  </thead>\n",
              "  <tbody>\n",
              "    <tr>\n",
              "      <th>0</th>\n",
              "      <td>white walkers</td>\n",
              "      <td>the westerlands</td>\n",
              "      <td>golden tooth</td>\n",
              "      <td>lord of the crossing</td>\n",
              "      <td>house frey</td>\n",
              "      <td>bagels</td>\n",
              "      <td>white cabbage</td>\n",
              "      <td>2.495851</td>\n",
              "      <td>49717.353917</td>\n",
              "      <td>0.000000</td>\n",
              "      <td>19920.0</td>\n",
              "    </tr>\n",
              "    <tr>\n",
              "      <th>1</th>\n",
              "      <td>white walkers</td>\n",
              "      <td>the riverlands</td>\n",
              "      <td>mummer's ford</td>\n",
              "      <td>ser</td>\n",
              "      <td>house swyft</td>\n",
              "      <td>chicken bouillon granules</td>\n",
              "      <td>rye</td>\n",
              "      <td>45.198292</td>\n",
              "      <td>249494.572083</td>\n",
              "      <td>0.000000</td>\n",
              "      <td>5520.0</td>\n",
              "    </tr>\n",
              "    <tr>\n",
              "      <th>2</th>\n",
              "      <td>men</td>\n",
              "      <td>the north</td>\n",
              "      <td>riverrun</td>\n",
              "      <td>ser</td>\n",
              "      <td>house arryn</td>\n",
              "      <td>dry yeast</td>\n",
              "      <td>wheels</td>\n",
              "      <td>2.475006</td>\n",
              "      <td>54351.125584</td>\n",
              "      <td>4393.135151</td>\n",
              "      <td>21960.0</td>\n",
              "    </tr>\n",
              "    <tr>\n",
              "      <th>3</th>\n",
              "      <td>white walkers</td>\n",
              "      <td>the stormlands</td>\n",
              "      <td>green fork</td>\n",
              "      <td>lord of the crossing</td>\n",
              "      <td>house santagar</td>\n",
              "      <td>chicken bouillon granules</td>\n",
              "      <td>cola soft drink</td>\n",
              "      <td>4.980233</td>\n",
              "      <td>33467.167489</td>\n",
              "      <td>0.000000</td>\n",
              "      <td>6720.0</td>\n",
              "    </tr>\n",
              "    <tr>\n",
              "      <th>4</th>\n",
              "      <td>white walkers</td>\n",
              "      <td>the crownlands</td>\n",
              "      <td>whispering wood</td>\n",
              "      <td>ser</td>\n",
              "      <td>house targaryen</td>\n",
              "      <td>field peas</td>\n",
              "      <td>mexican oregano</td>\n",
              "      <td>2.482338</td>\n",
              "      <td>27256.068984</td>\n",
              "      <td>0.000000</td>\n",
              "      <td>10980.0</td>\n",
              "    </tr>\n",
              "    <tr>\n",
              "      <th>...</th>\n",
              "      <td>...</td>\n",
              "      <td>...</td>\n",
              "      <td>...</td>\n",
              "      <td>...</td>\n",
              "      <td>...</td>\n",
              "      <td>...</td>\n",
              "      <td>...</td>\n",
              "      <td>...</td>\n",
              "      <td>...</td>\n",
              "      <td>...</td>\n",
              "      <td>...</td>\n",
              "    </tr>\n",
              "    <tr>\n",
              "      <th>1081479</th>\n",
              "      <td>white walkers</td>\n",
              "      <td>the crownlands</td>\n",
              "      <td>whispering wood</td>\n",
              "      <td>ser</td>\n",
              "      <td>house targaryen</td>\n",
              "      <td>baby beets</td>\n",
              "      <td>pepper jack</td>\n",
              "      <td>2.510660</td>\n",
              "      <td>68390.365937</td>\n",
              "      <td>0.000000</td>\n",
              "      <td>27240.0</td>\n",
              "    </tr>\n",
              "    <tr>\n",
              "      <th>1081480</th>\n",
              "      <td>white walkers</td>\n",
              "      <td>the westerlands</td>\n",
              "      <td>red fork</td>\n",
              "      <td>lord of the crossing</td>\n",
              "      <td>house fell</td>\n",
              "      <td>baby beets</td>\n",
              "      <td>condensed chicken broth</td>\n",
              "      <td>2.524183</td>\n",
              "      <td>66032.624470</td>\n",
              "      <td>0.000000</td>\n",
              "      <td>26160.0</td>\n",
              "    </tr>\n",
              "    <tr>\n",
              "      <th>1081481</th>\n",
              "      <td>men</td>\n",
              "      <td>the westerlands</td>\n",
              "      <td>red fork</td>\n",
              "      <td>lord of the crossing</td>\n",
              "      <td>house fell</td>\n",
              "      <td>acorn squash</td>\n",
              "      <td>triple sec</td>\n",
              "      <td>2.479061</td>\n",
              "      <td>122416.050642</td>\n",
              "      <td>0.000000</td>\n",
              "      <td>49380.0</td>\n",
              "    </tr>\n",
              "    <tr>\n",
              "      <th>1081482</th>\n",
              "      <td>white walkers</td>\n",
              "      <td>the westerlands</td>\n",
              "      <td>red fork</td>\n",
              "      <td>lord of the crossing</td>\n",
              "      <td>house fell</td>\n",
              "      <td>baby beets</td>\n",
              "      <td>glace cherries</td>\n",
              "      <td>2.523261</td>\n",
              "      <td>104462.994679</td>\n",
              "      <td>0.000000</td>\n",
              "      <td>41400.0</td>\n",
              "    </tr>\n",
              "    <tr>\n",
              "      <th>1081483</th>\n",
              "      <td>men</td>\n",
              "      <td>the stormlands</td>\n",
              "      <td>harrenhal</td>\n",
              "      <td>lord of the crossing</td>\n",
              "      <td>house manderly</td>\n",
              "      <td>long grain and wild rice mix</td>\n",
              "      <td>peeled deveined shrimp</td>\n",
              "      <td>14.953670</td>\n",
              "      <td>419899.049958</td>\n",
              "      <td>17944.403844</td>\n",
              "      <td>28080.0</td>\n",
              "    </tr>\n",
              "  </tbody>\n",
              "</table>\n",
              "<p>1081484 rows × 11 columns</p>\n",
              "</div>"
            ],
            "text/plain": [
              "               Company           Area 1           Area 2  \\\n",
              "0        white walkers  the westerlands     golden tooth   \n",
              "1        white walkers   the riverlands    mummer's ford   \n",
              "2                  men        the north         riverrun   \n",
              "3        white walkers   the stormlands       green fork   \n",
              "4        white walkers   the crownlands  whispering wood   \n",
              "...                ...              ...              ...   \n",
              "1081479  white walkers   the crownlands  whispering wood   \n",
              "1081480  white walkers  the westerlands         red fork   \n",
              "1081481            men  the westerlands         red fork   \n",
              "1081482  white walkers  the westerlands         red fork   \n",
              "1081483            men   the stormlands        harrenhal   \n",
              "\n",
              "        Area 3 Classification      Outlet Type            Product Category 2  \\\n",
              "0        lord of the crossing       house frey                        bagels   \n",
              "1                         ser      house swyft     chicken bouillon granules   \n",
              "2                         ser      house arryn                     dry yeast   \n",
              "3        lord of the crossing   house santagar     chicken bouillon granules   \n",
              "4                         ser  house targaryen                    field peas   \n",
              "...                       ...              ...                           ...   \n",
              "1081479                   ser  house targaryen                    baby beets   \n",
              "1081480  lord of the crossing       house fell                    baby beets   \n",
              "1081481  lord of the crossing       house fell                  acorn squash   \n",
              "1081482  lord of the crossing       house fell                    baby beets   \n",
              "1081483  lord of the crossing   house manderly  long grain and wild rice mix   \n",
              "\n",
              "                         Product  Units sold        Revenue    Commission  \\\n",
              "0                  white cabbage    2.495851   49717.353917      0.000000   \n",
              "1                            rye   45.198292  249494.572083      0.000000   \n",
              "2                         wheels    2.475006   54351.125584   4393.135151   \n",
              "3                cola soft drink    4.980233   33467.167489      0.000000   \n",
              "4                mexican oregano    2.482338   27256.068984      0.000000   \n",
              "...                          ...         ...            ...           ...   \n",
              "1081479              pepper jack    2.510660   68390.365937      0.000000   \n",
              "1081480  condensed chicken broth    2.524183   66032.624470      0.000000   \n",
              "1081481               triple sec    2.479061  122416.050642      0.000000   \n",
              "1081482           glace cherries    2.523261  104462.994679      0.000000   \n",
              "1081483   peeled deveined shrimp   14.953670  419899.049958  17944.403844   \n",
              "\n",
              "         Price per unit  \n",
              "0               19920.0  \n",
              "1                5520.0  \n",
              "2               21960.0  \n",
              "3                6720.0  \n",
              "4               10980.0  \n",
              "...                 ...  \n",
              "1081479         27240.0  \n",
              "1081480         26160.0  \n",
              "1081481         49380.0  \n",
              "1081482         41400.0  \n",
              "1081483         28080.0  \n",
              "\n",
              "[1081484 rows x 11 columns]"
            ]
          },
          "execution_count": 30,
          "metadata": {},
          "output_type": "execute_result"
        }
      ],
      "source": [
        "df['Price per unit']=df.apply(lambda x: x['Revenue']/x['Units sold'], axis=1)\n",
        "df"
      ]
    },
    {
      "cell_type": "code",
      "execution_count": null,
      "id": "6b7ef540",
      "metadata": {
        "id": "6b7ef540",
        "outputId": "bc2942b4-355d-4a30-b830-bf4e33cce871"
      },
      "outputs": [
        {
          "data": {
            "text/plain": [
              "<AxesSubplot:xlabel='Price per unit', ylabel='Commission'>"
            ]
          },
          "execution_count": 31,
          "metadata": {},
          "output_type": "execute_result"
        },
        {
          "data": {
            "image/png": "[encoded data removed]",
            "text/plain": [
              "<Figure size 432x288 with 1 Axes>"
            ]
          },
          "metadata": {
            "needs_background": "light"
          },
          "output_type": "display_data"
        }
      ],
      "source": [
        "sns.scatterplot(x='Price per unit',y='Commission',data=df)"
      ]
    },
    {
      "cell_type": "markdown",
      "id": "47498cad",
      "metadata": {
        "id": "47498cad"
      },
      "source": [
        "# Inference\n",
        "Above 150000 the value is zero,  below 150000 there is a distribution \n"
      ]
    },
    {
      "cell_type": "code",
      "execution_count": null,
      "id": "1d05cf88",
      "metadata": {
        "id": "1d05cf88",
        "outputId": "931f409d-b619-4856-c1a9-2808dc23cc85"
      },
      "outputs": [
        {
          "data": {
            "text/html": [
              "<div>\n",
              "<style scoped>\n",
              "    .dataframe tbody tr th:only-of-type {\n",
              "        vertical-align: middle;\n",
              "    }\n",
              "\n",
              "    .dataframe tbody tr th {\n",
              "        vertical-align: top;\n",
              "    }\n",
              "\n",
              "    .dataframe thead th {\n",
              "        text-align: right;\n",
              "    }\n",
              "</style>\n",
              "<table border=\"1\" class=\"dataframe\">\n",
              "  <thead>\n",
              "    <tr style=\"text-align: right;\">\n",
              "      <th></th>\n",
              "      <th>Company</th>\n",
              "      <th>Area 1</th>\n",
              "      <th>Area 2</th>\n",
              "      <th>Area 3 Classification</th>\n",
              "      <th>Outlet Type</th>\n",
              "      <th>Product Category 2</th>\n",
              "      <th>Product</th>\n",
              "      <th>Units sold</th>\n",
              "      <th>Revenue</th>\n",
              "      <th>Commission</th>\n",
              "      <th>Price per unit</th>\n",
              "    </tr>\n",
              "  </thead>\n",
              "  <tbody>\n",
              "    <tr>\n",
              "      <th>1047778</th>\n",
              "      <td>white walkers</td>\n",
              "      <td>the westerlands</td>\n",
              "      <td>red fork</td>\n",
              "      <td>lord of the crossing</td>\n",
              "      <td>house fell</td>\n",
              "      <td>white cheddar cheese</td>\n",
              "      <td>gaeta olives</td>\n",
              "      <td>2.479094</td>\n",
              "      <td>2.567350e+05</td>\n",
              "      <td>0.000000</td>\n",
              "      <td>103560.0</td>\n",
              "    </tr>\n",
              "    <tr>\n",
              "      <th>1047919</th>\n",
              "      <td>white walkers</td>\n",
              "      <td>the stormlands</td>\n",
              "      <td>oxcross</td>\n",
              "      <td>lord of the crossing</td>\n",
              "      <td>house webber</td>\n",
              "      <td>white cheddar cheese</td>\n",
              "      <td>gaeta olives</td>\n",
              "      <td>2.483290</td>\n",
              "      <td>2.571696e+05</td>\n",
              "      <td>0.000000</td>\n",
              "      <td>103560.0</td>\n",
              "    </tr>\n",
              "    <tr>\n",
              "      <th>1047934</th>\n",
              "      <td>men</td>\n",
              "      <td>the westerlands</td>\n",
              "      <td>golden tooth</td>\n",
              "      <td>lord of the crossing</td>\n",
              "      <td>house frey</td>\n",
              "      <td>reduced fat cream cheese</td>\n",
              "      <td>shanghai noodles</td>\n",
              "      <td>52.577864</td>\n",
              "      <td>6.788854e+06</td>\n",
              "      <td>262889.320409</td>\n",
              "      <td>129120.0</td>\n",
              "    </tr>\n",
              "    <tr>\n",
              "      <th>1047987</th>\n",
              "      <td>white walkers</td>\n",
              "      <td>the westerlands</td>\n",
              "      <td>red fork</td>\n",
              "      <td>lord of the crossing</td>\n",
              "      <td>house fell</td>\n",
              "      <td>white cheddar cheese</td>\n",
              "      <td>gaeta olives</td>\n",
              "      <td>2.508903</td>\n",
              "      <td>2.598219e+05</td>\n",
              "      <td>0.000000</td>\n",
              "      <td>103560.0</td>\n",
              "    </tr>\n",
              "    <tr>\n",
              "      <th>1048022</th>\n",
              "      <td>white walkers</td>\n",
              "      <td>the stormlands</td>\n",
              "      <td>harrenhal</td>\n",
              "      <td>lord of the crossing</td>\n",
              "      <td>house santagar</td>\n",
              "      <td>baby beets</td>\n",
              "      <td>vegetable oil spray</td>\n",
              "      <td>0.832291</td>\n",
              "      <td>1.142569e+05</td>\n",
              "      <td>0.000000</td>\n",
              "      <td>137280.0</td>\n",
              "    </tr>\n",
              "    <tr>\n",
              "      <th>...</th>\n",
              "      <td>...</td>\n",
              "      <td>...</td>\n",
              "      <td>...</td>\n",
              "      <td>...</td>\n",
              "      <td>...</td>\n",
              "      <td>...</td>\n",
              "      <td>...</td>\n",
              "      <td>...</td>\n",
              "      <td>...</td>\n",
              "      <td>...</td>\n",
              "      <td>...</td>\n",
              "    </tr>\n",
              "    <tr>\n",
              "      <th>1081061</th>\n",
              "      <td>white walkers</td>\n",
              "      <td>the westerlands</td>\n",
              "      <td>golden tooth</td>\n",
              "      <td>lord of the crossing</td>\n",
              "      <td>house frey</td>\n",
              "      <td>white cheddar cheese</td>\n",
              "      <td>beef sirloin</td>\n",
              "      <td>2.524548</td>\n",
              "      <td>3.529318e+05</td>\n",
              "      <td>0.000000</td>\n",
              "      <td>139800.0</td>\n",
              "    </tr>\n",
              "    <tr>\n",
              "      <th>1081109</th>\n",
              "      <td>white walkers</td>\n",
              "      <td>the stormlands</td>\n",
              "      <td>harrenhal</td>\n",
              "      <td>lord of the crossing</td>\n",
              "      <td>house manderly</td>\n",
              "      <td>white cheddar cheese</td>\n",
              "      <td>gaeta olives</td>\n",
              "      <td>2.506431</td>\n",
              "      <td>2.595660e+05</td>\n",
              "      <td>0.000000</td>\n",
              "      <td>103560.0</td>\n",
              "    </tr>\n",
              "    <tr>\n",
              "      <th>1081120</th>\n",
              "      <td>men</td>\n",
              "      <td>the stormlands</td>\n",
              "      <td>harrenhal</td>\n",
              "      <td>lord of the crossing</td>\n",
              "      <td>house manderly</td>\n",
              "      <td>reduced fat cream cheese</td>\n",
              "      <td>shanghai noodles</td>\n",
              "      <td>2.483524</td>\n",
              "      <td>3.206726e+05</td>\n",
              "      <td>0.000000</td>\n",
              "      <td>129120.0</td>\n",
              "    </tr>\n",
              "    <tr>\n",
              "      <th>1081178</th>\n",
              "      <td>white walkers</td>\n",
              "      <td>the westerlands</td>\n",
              "      <td>red fork</td>\n",
              "      <td>lord of the crossing</td>\n",
              "      <td>house fell</td>\n",
              "      <td>white cheddar cheese</td>\n",
              "      <td>gaeta olives</td>\n",
              "      <td>5.021494</td>\n",
              "      <td>5.200259e+05</td>\n",
              "      <td>0.000000</td>\n",
              "      <td>103560.0</td>\n",
              "    </tr>\n",
              "    <tr>\n",
              "      <th>1081265</th>\n",
              "      <td>white walkers</td>\n",
              "      <td>the westerlands</td>\n",
              "      <td>golden tooth</td>\n",
              "      <td>lord of the crossing</td>\n",
              "      <td>house frey</td>\n",
              "      <td>white cheddar cheese</td>\n",
              "      <td>beef sirloin</td>\n",
              "      <td>2.507053</td>\n",
              "      <td>3.504859e+05</td>\n",
              "      <td>0.000000</td>\n",
              "      <td>139800.0</td>\n",
              "    </tr>\n",
              "  </tbody>\n",
              "</table>\n",
              "<p>453 rows × 11 columns</p>\n",
              "</div>"
            ],
            "text/plain": [
              "               Company           Area 1        Area 2 Area 3 Classification  \\\n",
              "1047778  white walkers  the westerlands      red fork  lord of the crossing   \n",
              "1047919  white walkers   the stormlands       oxcross  lord of the crossing   \n",
              "1047934            men  the westerlands  golden tooth  lord of the crossing   \n",
              "1047987  white walkers  the westerlands      red fork  lord of the crossing   \n",
              "1048022  white walkers   the stormlands     harrenhal  lord of the crossing   \n",
              "...                ...              ...           ...                   ...   \n",
              "1081061  white walkers  the westerlands  golden tooth  lord of the crossing   \n",
              "1081109  white walkers   the stormlands     harrenhal  lord of the crossing   \n",
              "1081120            men   the stormlands     harrenhal  lord of the crossing   \n",
              "1081178  white walkers  the westerlands      red fork  lord of the crossing   \n",
              "1081265  white walkers  the westerlands  golden tooth  lord of the crossing   \n",
              "\n",
              "            Outlet Type        Product Category 2              Product  \\\n",
              "1047778      house fell      white cheddar cheese         gaeta olives   \n",
              "1047919    house webber      white cheddar cheese         gaeta olives   \n",
              "1047934      house frey  reduced fat cream cheese     shanghai noodles   \n",
              "1047987      house fell      white cheddar cheese         gaeta olives   \n",
              "1048022  house santagar                baby beets  vegetable oil spray   \n",
              "...                 ...                       ...                  ...   \n",
              "1081061      house frey      white cheddar cheese         beef sirloin   \n",
              "1081109  house manderly      white cheddar cheese         gaeta olives   \n",
              "1081120  house manderly  reduced fat cream cheese     shanghai noodles   \n",
              "1081178      house fell      white cheddar cheese         gaeta olives   \n",
              "1081265      house frey      white cheddar cheese         beef sirloin   \n",
              "\n",
              "         Units sold       Revenue     Commission  Price per unit  \n",
              "1047778    2.479094  2.567350e+05       0.000000        103560.0  \n",
              "1047919    2.483290  2.571696e+05       0.000000        103560.0  \n",
              "1047934   52.577864  6.788854e+06  262889.320409        129120.0  \n",
              "1047987    2.508903  2.598219e+05       0.000000        103560.0  \n",
              "1048022    0.832291  1.142569e+05       0.000000        137280.0  \n",
              "...             ...           ...            ...             ...  \n",
              "1081061    2.524548  3.529318e+05       0.000000        139800.0  \n",
              "1081109    2.506431  2.595660e+05       0.000000        103560.0  \n",
              "1081120    2.483524  3.206726e+05       0.000000        129120.0  \n",
              "1081178    5.021494  5.200259e+05       0.000000        103560.0  \n",
              "1081265    2.507053  3.504859e+05       0.000000        139800.0  \n",
              "\n",
              "[453 rows x 11 columns]"
            ]
          },
          "execution_count": 32,
          "metadata": {},
          "output_type": "execute_result"
        }
      ],
      "source": [
        "df[df['Price per unit']>100000]"
      ]
    },
    {
      "cell_type": "code",
      "execution_count": null,
      "id": "97e81989",
      "metadata": {
        "id": "97e81989",
        "outputId": "f2aea22d-eaec-46a1-a5f6-e7ec8dd80e4e"
      },
      "outputs": [
        {
          "data": {
            "text/plain": [
              "<AxesSubplot:xlabel='Revenue', ylabel='Commission'>"
            ]
          },
          "execution_count": 33,
          "metadata": {},
          "output_type": "execute_result"
        },
        {
          "data": {
            "image/png": "[encoded data removed]",
            "text/plain": [
              "<Figure size 432x288 with 1 Axes>"
            ]
          },
          "metadata": {
            "needs_background": "light"
          },
          "output_type": "display_data"
        }
      ],
      "source": [
        "sns.scatterplot(x='Revenue',y='Commission',data=df)"
      ]
    },
    {
      "cell_type": "code",
      "execution_count": null,
      "id": "bcea4e41",
      "metadata": {
        "id": "bcea4e41"
      },
      "outputs": [],
      "source": [
        "s=df[df['Commission']!=0]"
      ]
    },
    {
      "cell_type": "code",
      "execution_count": null,
      "id": "33561279",
      "metadata": {
        "id": "33561279",
        "outputId": "204abe6f-600e-415f-cd87-ef3992e7916e"
      },
      "outputs": [
        {
          "data": {
            "text/plain": [
              "<AxesSubplot:xlabel='Area 3 Classification'>"
            ]
          },
          "execution_count": 35,
          "metadata": {},
          "output_type": "execute_result"
        },
        {
          "data": {
            "image/png": "[encoded data removed]",
            "text/plain": [
              "<Figure size 432x288 with 1 Axes>"
            ]
          },
          "metadata": {
            "needs_background": "light"
          },
          "output_type": "display_data"
        }
      ],
      "source": [
        "s[['Area 3 Classification','Commission']].groupby(['Area 3 Classification']).sum().plot(kind=\"bar\")"
      ]
    },
    {
      "cell_type": "code",
      "execution_count": null,
      "id": "4581c5d2",
      "metadata": {
        "id": "4581c5d2",
        "outputId": "b8feff07-a26e-4299-840d-be1a2778d5e6"
      },
      "outputs": [
        {
          "data": {
            "text/plain": [
              "<AxesSubplot:xlabel='Area 2'>"
            ]
          },
          "execution_count": 36,
          "metadata": {},
          "output_type": "execute_result"
        },
        {
          "data": {
            "image/png": "[encoded data removed]",
            "text/plain": [
              "<Figure size 432x288 with 1 Axes>"
            ]
          },
          "metadata": {
            "needs_background": "light"
          },
          "output_type": "display_data"
        }
      ],
      "source": [
        "s[['Area 2','Commission']].groupby(['Area 2']).sum().plot(kind=\"bar\")"
      ]
    },
    {
      "cell_type": "code",
      "execution_count": null,
      "id": "d757426f",
      "metadata": {
        "id": "d757426f",
        "outputId": "51428754-495b-46cc-9ba5-40d58984e8e2"
      },
      "outputs": [
        {
          "data": {
            "text/plain": [
              "<AxesSubplot:xlabel='Area 1'>"
            ]
          },
          "execution_count": 37,
          "metadata": {},
          "output_type": "execute_result"
        },
        {
          "data": {
            "image/png": "[encoded data removed]",
            "text/plain": [
              "<Figure size 432x288 with 1 Axes>"
            ]
          },
          "metadata": {
            "needs_background": "light"
          },
          "output_type": "display_data"
        }
      ],
      "source": [
        "s[['Area 1','Commission']].groupby(['Area 1']).sum().plot(kind=\"bar\")"
      ]
    },
    {
      "cell_type": "code",
      "execution_count": null,
      "id": "4cf6d08d",
      "metadata": {
        "id": "4cf6d08d",
        "outputId": "6c89513e-369e-4d59-9dd6-731e037406fd"
      },
      "outputs": [
        {
          "data": {
            "text/plain": [
              "<AxesSubplot:xlabel='Company'>"
            ]
          },
          "execution_count": 38,
          "metadata": {},
          "output_type": "execute_result"
        },
        {
          "data": {
            "image/png": "[encoded data removed]",
            "text/plain": [
              "<Figure size 432x288 with 1 Axes>"
            ]
          },
          "metadata": {
            "needs_background": "light"
          },
          "output_type": "display_data"
        }
      ],
      "source": [
        "s[['Company','Commission']].groupby(['Company']).sum().plot(kind=\"bar\")"
      ]
    },
    {
      "cell_type": "code",
      "execution_count": null,
      "id": "561e13de",
      "metadata": {
        "id": "561e13de",
        "outputId": "d9f1e155-154e-43fe-d6a9-6ed1fee96345"
      },
      "outputs": [
        {
          "data": {
            "text/plain": [
              "<AxesSubplot:xlabel='Outlet Type'>"
            ]
          },
          "execution_count": 39,
          "metadata": {},
          "output_type": "execute_result"
        },
        {
          "data": {
            "image/png": "[encoded data removed]",
            "text/plain": [
              "<Figure size 432x288 with 1 Axes>"
            ]
          },
          "metadata": {
            "needs_background": "light"
          },
          "output_type": "display_data"
        }
      ],
      "source": [
        "s[['Outlet Type','Commission']].groupby(['Outlet Type']).sum().plot(kind=\"bar\")"
      ]
    },
    {
      "cell_type": "code",
      "execution_count": null,
      "id": "6f64b437",
      "metadata": {
        "id": "6f64b437",
        "outputId": "31b08a3d-69d5-43b0-ca7f-5334542dbea7"
      },
      "outputs": [
        {
          "data": {
            "text/plain": [
              "<AxesSubplot:xlabel='Units sold', ylabel='Commission'>"
            ]
          },
          "execution_count": 40,
          "metadata": {},
          "output_type": "execute_result"
        },
        {
          "data": {
            "image/png": "[encoded data removed]",
            "text/plain": [
              "<Figure size 432x288 with 1 Axes>"
            ]
          },
          "metadata": {
            "needs_background": "light"
          },
          "output_type": "display_data"
        }
      ],
      "source": [
        "sns.scatterplot(x='Units sold',y='Commission',data=s)"
      ]
    },
    {
      "cell_type": "code",
      "execution_count": null,
      "id": "88a08ad4",
      "metadata": {
        "id": "88a08ad4",
        "outputId": "7573e108-3917-4a5b-a8f1-b370ca4e85d5"
      },
      "outputs": [
        {
          "data": {
            "text/plain": [
              "<AxesSubplot:xlabel='Price per unit', ylabel='Commission'>"
            ]
          },
          "execution_count": 41,
          "metadata": {},
          "output_type": "execute_result"
        },
        {
          "data": {
            "image/png": "[encoded data removed]",
            "text/plain": [
              "<Figure size 432x288 with 1 Axes>"
            ]
          },
          "metadata": {
            "needs_background": "light"
          },
          "output_type": "display_data"
        }
      ],
      "source": [
        "sns.scatterplot(x='Price per unit',y='Commission',data=s)"
      ]
    },
    {
      "cell_type": "code",
      "execution_count": null,
      "id": "3f0339d8",
      "metadata": {
        "id": "3f0339d8"
      },
      "outputs": [],
      "source": [
        "list_index=df.index[df['Price per unit'] >=150000].tolist()"
      ]
    },
    {
      "cell_type": "code",
      "execution_count": null,
      "id": "faa9cf38",
      "metadata": {
        "scrolled": false,
        "id": "faa9cf38",
        "outputId": "e18810f4-37fd-4f5a-e49c-6c6b32797290"
      },
      "outputs": [
        {
          "name": "stderr",
          "output_type": "stream",
          "text": [
            "C:\\Users\\Hp\\AppData\\Local\\Temp\\ipykernel_13264\\2019971238.py:1: FutureWarning: In a future version of pandas all arguments of DataFrame.drop except for the argument 'labels' will be keyword-only.\n",
            "  df.drop(list_index,0,inplace=True)\n"
          ]
        }
      ],
      "source": [
        "df.drop(list_index,0,inplace=True)"
      ]
    },
    {
      "cell_type": "code",
      "execution_count": null,
      "id": "67d18b8a",
      "metadata": {
        "scrolled": true,
        "id": "67d18b8a",
        "outputId": "a256d45d-26c3-4f94-b365-5edf49ed7aac"
      },
      "outputs": [
        {
          "data": {
            "text/html": [
              "<div>\n",
              "<style scoped>\n",
              "    .dataframe tbody tr th:only-of-type {\n",
              "        vertical-align: middle;\n",
              "    }\n",
              "\n",
              "    .dataframe tbody tr th {\n",
              "        vertical-align: top;\n",
              "    }\n",
              "\n",
              "    .dataframe thead th {\n",
              "        text-align: right;\n",
              "    }\n",
              "</style>\n",
              "<table border=\"1\" class=\"dataframe\">\n",
              "  <thead>\n",
              "    <tr style=\"text-align: right;\">\n",
              "      <th></th>\n",
              "      <th>Product Category 2</th>\n",
              "      <th>Commission</th>\n",
              "      <th>Units sold</th>\n",
              "      <th>Revenue</th>\n",
              "    </tr>\n",
              "  </thead>\n",
              "  <tbody>\n",
              "    <tr>\n",
              "      <th>0</th>\n",
              "      <td>bagels</td>\n",
              "      <td>0.000000</td>\n",
              "      <td>2.495851</td>\n",
              "      <td>49717.353917</td>\n",
              "    </tr>\n",
              "    <tr>\n",
              "      <th>1</th>\n",
              "      <td>chicken bouillon granules</td>\n",
              "      <td>0.000000</td>\n",
              "      <td>45.198292</td>\n",
              "      <td>249494.572083</td>\n",
              "    </tr>\n",
              "    <tr>\n",
              "      <th>2</th>\n",
              "      <td>dry yeast</td>\n",
              "      <td>4393.135151</td>\n",
              "      <td>2.475006</td>\n",
              "      <td>54351.125584</td>\n",
              "    </tr>\n",
              "    <tr>\n",
              "      <th>3</th>\n",
              "      <td>chicken bouillon granules</td>\n",
              "      <td>0.000000</td>\n",
              "      <td>4.980233</td>\n",
              "      <td>33467.167489</td>\n",
              "    </tr>\n",
              "    <tr>\n",
              "      <th>4</th>\n",
              "      <td>field peas</td>\n",
              "      <td>0.000000</td>\n",
              "      <td>2.482338</td>\n",
              "      <td>27256.068984</td>\n",
              "    </tr>\n",
              "    <tr>\n",
              "      <th>...</th>\n",
              "      <td>...</td>\n",
              "      <td>...</td>\n",
              "      <td>...</td>\n",
              "      <td>...</td>\n",
              "    </tr>\n",
              "    <tr>\n",
              "      <th>1081479</th>\n",
              "      <td>baby beets</td>\n",
              "      <td>0.000000</td>\n",
              "      <td>2.510660</td>\n",
              "      <td>68390.365937</td>\n",
              "    </tr>\n",
              "    <tr>\n",
              "      <th>1081480</th>\n",
              "      <td>baby beets</td>\n",
              "      <td>0.000000</td>\n",
              "      <td>2.524183</td>\n",
              "      <td>66032.624470</td>\n",
              "    </tr>\n",
              "    <tr>\n",
              "      <th>1081481</th>\n",
              "      <td>acorn squash</td>\n",
              "      <td>0.000000</td>\n",
              "      <td>2.479061</td>\n",
              "      <td>122416.050642</td>\n",
              "    </tr>\n",
              "    <tr>\n",
              "      <th>1081482</th>\n",
              "      <td>baby beets</td>\n",
              "      <td>0.000000</td>\n",
              "      <td>2.523261</td>\n",
              "      <td>104462.994679</td>\n",
              "    </tr>\n",
              "    <tr>\n",
              "      <th>1081483</th>\n",
              "      <td>long grain and wild rice mix</td>\n",
              "      <td>17944.403844</td>\n",
              "      <td>14.953670</td>\n",
              "      <td>419899.049958</td>\n",
              "    </tr>\n",
              "  </tbody>\n",
              "</table>\n",
              "<p>1081470 rows × 4 columns</p>\n",
              "</div>"
            ],
            "text/plain": [
              "                   Product Category 2    Commission  Units sold        Revenue\n",
              "0                              bagels      0.000000    2.495851   49717.353917\n",
              "1           chicken bouillon granules      0.000000   45.198292  249494.572083\n",
              "2                           dry yeast   4393.135151    2.475006   54351.125584\n",
              "3           chicken bouillon granules      0.000000    4.980233   33467.167489\n",
              "4                          field peas      0.000000    2.482338   27256.068984\n",
              "...                               ...           ...         ...            ...\n",
              "1081479                    baby beets      0.000000    2.510660   68390.365937\n",
              "1081480                    baby beets      0.000000    2.524183   66032.624470\n",
              "1081481                  acorn squash      0.000000    2.479061  122416.050642\n",
              "1081482                    baby beets      0.000000    2.523261  104462.994679\n",
              "1081483  long grain and wild rice mix  17944.403844   14.953670  419899.049958\n",
              "\n",
              "[1081470 rows x 4 columns]"
            ]
          },
          "execution_count": 44,
          "metadata": {},
          "output_type": "execute_result"
        }
      ],
      "source": [
        "#feature selection\n",
        "X=df[['Product Category 2','Commission','Units sold','Revenue']]\n",
        "X\n",
        "\n"
      ]
    },
    {
      "cell_type": "code",
      "execution_count": null,
      "id": "d6bc37e8",
      "metadata": {
        "scrolled": true,
        "id": "d6bc37e8",
        "outputId": "a61b9e6e-bf8c-4f13-ee5c-df3372d71489"
      },
      "outputs": [
        {
          "data": {
            "text/plain": [
              "array(['1% low-fat cottage cheese', 'Aberlour', 'Brancott',\n",
              "       'acorn squash', 'amaretti', 'asian basil', 'bagels',\n",
              "       'chicken bouillon granules', 'cotija', 'dates', 'dry yeast',\n",
              "       'field peas', 'fine salt', 'fino sherry', 'fresh sage',\n",
              "       'gluten free soy sauce', 'lamb chops',\n",
              "       'long grain and wild rice mix', 'maggi', 'morel',\n",
              "       'parmigiano-reggiano cheese', 'red bell pepper, sliced',\n",
              "       'reduced fat cream cheese', 'snails', 'toasted walnuts',\n",
              "       'whipped topping', 'whole grain mustard'], dtype=object)"
            ]
          },
          "execution_count": 45,
          "metadata": {},
          "output_type": "execute_result"
        }
      ],
      "source": [
        "null_prod=X.groupby(['Product Category 2'])['Commission'].sum().reset_index()\n",
        "null_prod=null_prod[null_prod['Commission']!=0]\n",
        "null_prod=null_prod['Product Category 2'].unique()\n",
        "null_prod"
      ]
    },
    {
      "cell_type": "code",
      "execution_count": null,
      "id": "960eede5",
      "metadata": {
        "scrolled": true,
        "id": "960eede5"
      },
      "outputs": [],
      "source": [
        "X=X.drop(X[~X['Product Category 2'].isin(null_prod)].index.tolist())\n",
        "        "
      ]
    },
    {
      "cell_type": "code",
      "execution_count": null,
      "id": "3c733e89",
      "metadata": {
        "scrolled": true,
        "id": "3c733e89"
      },
      "outputs": [],
      "source": [
        "X.reset_index(inplace=True,drop=True)\n"
      ]
    },
    {
      "cell_type": "code",
      "execution_count": null,
      "id": "0e57646c",
      "metadata": {
        "scrolled": true,
        "id": "0e57646c",
        "outputId": "ac3cea63-9259-4a29-f882-b75b184e70f3"
      },
      "outputs": [
        {
          "data": {
            "text/html": [
              "<div>\n",
              "<style scoped>\n",
              "    .dataframe tbody tr th:only-of-type {\n",
              "        vertical-align: middle;\n",
              "    }\n",
              "\n",
              "    .dataframe tbody tr th {\n",
              "        vertical-align: top;\n",
              "    }\n",
              "\n",
              "    .dataframe thead th {\n",
              "        text-align: right;\n",
              "    }\n",
              "</style>\n",
              "<table border=\"1\" class=\"dataframe\">\n",
              "  <thead>\n",
              "    <tr style=\"text-align: right;\">\n",
              "      <th></th>\n",
              "      <th>Product Category 2</th>\n",
              "      <th>Commission</th>\n",
              "      <th>Units sold</th>\n",
              "      <th>Revenue</th>\n",
              "    </tr>\n",
              "  </thead>\n",
              "  <tbody>\n",
              "    <tr>\n",
              "      <th>0</th>\n",
              "      <td>bagels</td>\n",
              "      <td>0.000000</td>\n",
              "      <td>2.495851</td>\n",
              "      <td>4.971735e+04</td>\n",
              "    </tr>\n",
              "    <tr>\n",
              "      <th>1</th>\n",
              "      <td>chicken bouillon granules</td>\n",
              "      <td>0.000000</td>\n",
              "      <td>45.198292</td>\n",
              "      <td>2.494946e+05</td>\n",
              "    </tr>\n",
              "    <tr>\n",
              "      <th>2</th>\n",
              "      <td>dry yeast</td>\n",
              "      <td>4393.135151</td>\n",
              "      <td>2.475006</td>\n",
              "      <td>5.435113e+04</td>\n",
              "    </tr>\n",
              "    <tr>\n",
              "      <th>3</th>\n",
              "      <td>chicken bouillon granules</td>\n",
              "      <td>0.000000</td>\n",
              "      <td>4.980233</td>\n",
              "      <td>3.346717e+04</td>\n",
              "    </tr>\n",
              "    <tr>\n",
              "      <th>4</th>\n",
              "      <td>field peas</td>\n",
              "      <td>0.000000</td>\n",
              "      <td>2.482338</td>\n",
              "      <td>2.725607e+04</td>\n",
              "    </tr>\n",
              "    <tr>\n",
              "      <th>...</th>\n",
              "      <td>...</td>\n",
              "      <td>...</td>\n",
              "      <td>...</td>\n",
              "      <td>...</td>\n",
              "    </tr>\n",
              "    <tr>\n",
              "      <th>831646</th>\n",
              "      <td>snails</td>\n",
              "      <td>0.000000</td>\n",
              "      <td>20.034808</td>\n",
              "      <td>1.072263e+06</td>\n",
              "    </tr>\n",
              "    <tr>\n",
              "      <th>831647</th>\n",
              "      <td>acorn squash</td>\n",
              "      <td>0.000000</td>\n",
              "      <td>1.040089</td>\n",
              "      <td>5.391824e+04</td>\n",
              "    </tr>\n",
              "    <tr>\n",
              "      <th>831648</th>\n",
              "      <td>gluten free soy sauce</td>\n",
              "      <td>0.000000</td>\n",
              "      <td>12.403501</td>\n",
              "      <td>2.470777e+05</td>\n",
              "    </tr>\n",
              "    <tr>\n",
              "      <th>831649</th>\n",
              "      <td>acorn squash</td>\n",
              "      <td>0.000000</td>\n",
              "      <td>2.479061</td>\n",
              "      <td>1.224161e+05</td>\n",
              "    </tr>\n",
              "    <tr>\n",
              "      <th>831650</th>\n",
              "      <td>long grain and wild rice mix</td>\n",
              "      <td>17944.403844</td>\n",
              "      <td>14.953670</td>\n",
              "      <td>4.198990e+05</td>\n",
              "    </tr>\n",
              "  </tbody>\n",
              "</table>\n",
              "<p>831651 rows × 4 columns</p>\n",
              "</div>"
            ],
            "text/plain": [
              "                  Product Category 2    Commission  Units sold       Revenue\n",
              "0                             bagels      0.000000    2.495851  4.971735e+04\n",
              "1          chicken bouillon granules      0.000000   45.198292  2.494946e+05\n",
              "2                          dry yeast   4393.135151    2.475006  5.435113e+04\n",
              "3          chicken bouillon granules      0.000000    4.980233  3.346717e+04\n",
              "4                         field peas      0.000000    2.482338  2.725607e+04\n",
              "...                              ...           ...         ...           ...\n",
              "831646                        snails      0.000000   20.034808  1.072263e+06\n",
              "831647                  acorn squash      0.000000    1.040089  5.391824e+04\n",
              "831648         gluten free soy sauce      0.000000   12.403501  2.470777e+05\n",
              "831649                  acorn squash      0.000000    2.479061  1.224161e+05\n",
              "831650  long grain and wild rice mix  17944.403844   14.953670  4.198990e+05\n",
              "\n",
              "[831651 rows x 4 columns]"
            ]
          },
          "execution_count": 48,
          "metadata": {},
          "output_type": "execute_result"
        }
      ],
      "source": [
        "X\n"
      ]
    },
    {
      "cell_type": "code",
      "execution_count": null,
      "id": "30b968c9",
      "metadata": {
        "scrolled": true,
        "id": "30b968c9",
        "outputId": "ef292148-f915-4d1a-820d-94a64aebc2b1"
      },
      "outputs": [
        {
          "data": {
            "text/html": [
              "<div>\n",
              "<style scoped>\n",
              "    .dataframe tbody tr th:only-of-type {\n",
              "        vertical-align: middle;\n",
              "    }\n",
              "\n",
              "    .dataframe tbody tr th {\n",
              "        vertical-align: top;\n",
              "    }\n",
              "\n",
              "    .dataframe thead th {\n",
              "        text-align: right;\n",
              "    }\n",
              "</style>\n",
              "<table border=\"1\" class=\"dataframe\">\n",
              "  <thead>\n",
              "    <tr style=\"text-align: right;\">\n",
              "      <th></th>\n",
              "      <th>Product Category 2</th>\n",
              "      <th>Commission</th>\n",
              "      <th>Units sold</th>\n",
              "      <th>Revenue</th>\n",
              "      <th>PercentCommission</th>\n",
              "    </tr>\n",
              "  </thead>\n",
              "  <tbody>\n",
              "    <tr>\n",
              "      <th>0</th>\n",
              "      <td>bagels</td>\n",
              "      <td>0.000000</td>\n",
              "      <td>2.495851</td>\n",
              "      <td>4.971735e+04</td>\n",
              "      <td>0.000000</td>\n",
              "    </tr>\n",
              "    <tr>\n",
              "      <th>1</th>\n",
              "      <td>chicken bouillon granules</td>\n",
              "      <td>0.000000</td>\n",
              "      <td>45.198292</td>\n",
              "      <td>2.494946e+05</td>\n",
              "      <td>0.000000</td>\n",
              "    </tr>\n",
              "    <tr>\n",
              "      <th>2</th>\n",
              "      <td>dry yeast</td>\n",
              "      <td>4393.135151</td>\n",
              "      <td>2.475006</td>\n",
              "      <td>5.435113e+04</td>\n",
              "      <td>0.080829</td>\n",
              "    </tr>\n",
              "    <tr>\n",
              "      <th>3</th>\n",
              "      <td>chicken bouillon granules</td>\n",
              "      <td>0.000000</td>\n",
              "      <td>4.980233</td>\n",
              "      <td>3.346717e+04</td>\n",
              "      <td>0.000000</td>\n",
              "    </tr>\n",
              "    <tr>\n",
              "      <th>4</th>\n",
              "      <td>field peas</td>\n",
              "      <td>0.000000</td>\n",
              "      <td>2.482338</td>\n",
              "      <td>2.725607e+04</td>\n",
              "      <td>0.000000</td>\n",
              "    </tr>\n",
              "    <tr>\n",
              "      <th>...</th>\n",
              "      <td>...</td>\n",
              "      <td>...</td>\n",
              "      <td>...</td>\n",
              "      <td>...</td>\n",
              "      <td>...</td>\n",
              "    </tr>\n",
              "    <tr>\n",
              "      <th>831646</th>\n",
              "      <td>snails</td>\n",
              "      <td>0.000000</td>\n",
              "      <td>20.034808</td>\n",
              "      <td>1.072263e+06</td>\n",
              "      <td>0.000000</td>\n",
              "    </tr>\n",
              "    <tr>\n",
              "      <th>831647</th>\n",
              "      <td>acorn squash</td>\n",
              "      <td>0.000000</td>\n",
              "      <td>1.040089</td>\n",
              "      <td>5.391824e+04</td>\n",
              "      <td>0.000000</td>\n",
              "    </tr>\n",
              "    <tr>\n",
              "      <th>831648</th>\n",
              "      <td>gluten free soy sauce</td>\n",
              "      <td>0.000000</td>\n",
              "      <td>12.403501</td>\n",
              "      <td>2.470777e+05</td>\n",
              "      <td>0.000000</td>\n",
              "    </tr>\n",
              "    <tr>\n",
              "      <th>831649</th>\n",
              "      <td>acorn squash</td>\n",
              "      <td>0.000000</td>\n",
              "      <td>2.479061</td>\n",
              "      <td>1.224161e+05</td>\n",
              "      <td>0.000000</td>\n",
              "    </tr>\n",
              "    <tr>\n",
              "      <th>831650</th>\n",
              "      <td>long grain and wild rice mix</td>\n",
              "      <td>17944.403844</td>\n",
              "      <td>14.953670</td>\n",
              "      <td>4.198990e+05</td>\n",
              "      <td>0.042735</td>\n",
              "    </tr>\n",
              "  </tbody>\n",
              "</table>\n",
              "<p>831651 rows × 5 columns</p>\n",
              "</div>"
            ],
            "text/plain": [
              "                  Product Category 2    Commission  Units sold       Revenue  \\\n",
              "0                             bagels      0.000000    2.495851  4.971735e+04   \n",
              "1          chicken bouillon granules      0.000000   45.198292  2.494946e+05   \n",
              "2                          dry yeast   4393.135151    2.475006  5.435113e+04   \n",
              "3          chicken bouillon granules      0.000000    4.980233  3.346717e+04   \n",
              "4                         field peas      0.000000    2.482338  2.725607e+04   \n",
              "...                              ...           ...         ...           ...   \n",
              "831646                        snails      0.000000   20.034808  1.072263e+06   \n",
              "831647                  acorn squash      0.000000    1.040089  5.391824e+04   \n",
              "831648         gluten free soy sauce      0.000000   12.403501  2.470777e+05   \n",
              "831649                  acorn squash      0.000000    2.479061  1.224161e+05   \n",
              "831650  long grain and wild rice mix  17944.403844   14.953670  4.198990e+05   \n",
              "\n",
              "        PercentCommission  \n",
              "0                0.000000  \n",
              "1                0.000000  \n",
              "2                0.080829  \n",
              "3                0.000000  \n",
              "4                0.000000  \n",
              "...                   ...  \n",
              "831646           0.000000  \n",
              "831647           0.000000  \n",
              "831648           0.000000  \n",
              "831649           0.000000  \n",
              "831650           0.042735  \n",
              "\n",
              "[831651 rows x 5 columns]"
            ]
          },
          "execution_count": 49,
          "metadata": {},
          "output_type": "execute_result"
        }
      ],
      "source": [
        "X['PercentCommission']=X['Commission']/X['Revenue']\n",
        "X"
      ]
    },
    {
      "cell_type": "code",
      "execution_count": null,
      "id": "f7d602fd",
      "metadata": {
        "id": "f7d602fd"
      },
      "outputs": [],
      "source": [
        "X[\"PercentCommission\"].fillna(0, inplace = True)"
      ]
    },
    {
      "cell_type": "code",
      "execution_count": null,
      "id": "4a6df2dd",
      "metadata": {
        "scrolled": true,
        "id": "4a6df2dd"
      },
      "outputs": [],
      "source": [
        "#startified split\n",
        "from sklearn.model_selection import StratifiedShuffleSplit\n",
        "spt=StratifiedShuffleSplit(n_splits=1,test_size=0.2,random_state=42)\n",
        "for train_index,test_index in spt.split(X,X['Product Category 2']):\n",
        "    strat_train_set=X.loc[train_index]\n",
        "    strat_test_set=X.loc[test_index]\n"
      ]
    },
    {
      "cell_type": "code",
      "execution_count": null,
      "id": "d7dd002e",
      "metadata": {
        "id": "d7dd002e"
      },
      "outputs": [],
      "source": [
        "strat_test_set.reset_index(inplace=True,drop=True)\n",
        "strat_train_set.reset_index(inplace=True,drop=True)"
      ]
    },
    {
      "cell_type": "code",
      "execution_count": null,
      "id": "eacff0e6",
      "metadata": {
        "id": "eacff0e6",
        "outputId": "8b4e3047-7dbe-4f98-e410-24d7ee2bb94b"
      },
      "outputs": [
        {
          "data": {
            "text/html": [
              "<div>\n",
              "<style scoped>\n",
              "    .dataframe tbody tr th:only-of-type {\n",
              "        vertical-align: middle;\n",
              "    }\n",
              "\n",
              "    .dataframe tbody tr th {\n",
              "        vertical-align: top;\n",
              "    }\n",
              "\n",
              "    .dataframe thead th {\n",
              "        text-align: right;\n",
              "    }\n",
              "</style>\n",
              "<table border=\"1\" class=\"dataframe\">\n",
              "  <thead>\n",
              "    <tr style=\"text-align: right;\">\n",
              "      <th></th>\n",
              "      <th>Product Category 2</th>\n",
              "      <th>Commission</th>\n",
              "      <th>Units sold</th>\n",
              "      <th>Revenue</th>\n",
              "      <th>PercentCommission</th>\n",
              "    </tr>\n",
              "  </thead>\n",
              "  <tbody>\n",
              "    <tr>\n",
              "      <th>0</th>\n",
              "      <td>bagels</td>\n",
              "      <td>0.000000</td>\n",
              "      <td>2.512120</td>\n",
              "      <td>5.124725e+04</td>\n",
              "      <td>0.000000</td>\n",
              "    </tr>\n",
              "    <tr>\n",
              "      <th>1</th>\n",
              "      <td>chicken bouillon granules</td>\n",
              "      <td>497.334339</td>\n",
              "      <td>4.973343</td>\n",
              "      <td>3.342087e+04</td>\n",
              "      <td>0.014881</td>\n",
              "    </tr>\n",
              "    <tr>\n",
              "      <th>2</th>\n",
              "      <td>maggi</td>\n",
              "      <td>2021.713415</td>\n",
              "      <td>40.234757</td>\n",
              "      <td>2.896903e+05</td>\n",
              "      <td>0.006979</td>\n",
              "    </tr>\n",
              "    <tr>\n",
              "      <th>3</th>\n",
              "      <td>morel</td>\n",
              "      <td>0.000000</td>\n",
              "      <td>2.480191</td>\n",
              "      <td>4.881015e+04</td>\n",
              "      <td>0.000000</td>\n",
              "    </tr>\n",
              "    <tr>\n",
              "      <th>4</th>\n",
              "      <td>morel</td>\n",
              "      <td>0.000000</td>\n",
              "      <td>14.994106</td>\n",
              "      <td>4.426260e+05</td>\n",
              "      <td>0.000000</td>\n",
              "    </tr>\n",
              "    <tr>\n",
              "      <th>...</th>\n",
              "      <td>...</td>\n",
              "      <td>...</td>\n",
              "      <td>...</td>\n",
              "      <td>...</td>\n",
              "      <td>...</td>\n",
              "    </tr>\n",
              "    <tr>\n",
              "      <th>665315</th>\n",
              "      <td>1% low-fat cottage cheese</td>\n",
              "      <td>0.000000</td>\n",
              "      <td>12.404223</td>\n",
              "      <td>1.250346e+05</td>\n",
              "      <td>0.000000</td>\n",
              "    </tr>\n",
              "    <tr>\n",
              "      <th>665316</th>\n",
              "      <td>maggi</td>\n",
              "      <td>2544.226615</td>\n",
              "      <td>42.265056</td>\n",
              "      <td>3.043084e+05</td>\n",
              "      <td>0.008361</td>\n",
              "    </tr>\n",
              "    <tr>\n",
              "      <th>665317</th>\n",
              "      <td>red bell pepper, sliced</td>\n",
              "      <td>7368.820489</td>\n",
              "      <td>2.517680</td>\n",
              "      <td>4.833946e+04</td>\n",
              "      <td>0.152439</td>\n",
              "    </tr>\n",
              "    <tr>\n",
              "      <th>665318</th>\n",
              "      <td>amaretti</td>\n",
              "      <td>54954.598922</td>\n",
              "      <td>213.775027</td>\n",
              "      <td>1.231344e+06</td>\n",
              "      <td>0.044630</td>\n",
              "    </tr>\n",
              "    <tr>\n",
              "      <th>665319</th>\n",
              "      <td>field peas</td>\n",
              "      <td>14270.472129</td>\n",
              "      <td>20.069267</td>\n",
              "      <td>2.408312e+05</td>\n",
              "      <td>0.059255</td>\n",
              "    </tr>\n",
              "  </tbody>\n",
              "</table>\n",
              "<p>665320 rows × 5 columns</p>\n",
              "</div>"
            ],
            "text/plain": [
              "               Product Category 2    Commission  Units sold       Revenue  \\\n",
              "0                          bagels      0.000000    2.512120  5.124725e+04   \n",
              "1       chicken bouillon granules    497.334339    4.973343  3.342087e+04   \n",
              "2                           maggi   2021.713415   40.234757  2.896903e+05   \n",
              "3                           morel      0.000000    2.480191  4.881015e+04   \n",
              "4                           morel      0.000000   14.994106  4.426260e+05   \n",
              "...                           ...           ...         ...           ...   \n",
              "665315  1% low-fat cottage cheese      0.000000   12.404223  1.250346e+05   \n",
              "665316                      maggi   2544.226615   42.265056  3.043084e+05   \n",
              "665317    red bell pepper, sliced   7368.820489    2.517680  4.833946e+04   \n",
              "665318                   amaretti  54954.598922  213.775027  1.231344e+06   \n",
              "665319                 field peas  14270.472129   20.069267  2.408312e+05   \n",
              "\n",
              "        PercentCommission  \n",
              "0                0.000000  \n",
              "1                0.014881  \n",
              "2                0.006979  \n",
              "3                0.000000  \n",
              "4                0.000000  \n",
              "...                   ...  \n",
              "665315           0.000000  \n",
              "665316           0.008361  \n",
              "665317           0.152439  \n",
              "665318           0.044630  \n",
              "665319           0.059255  \n",
              "\n",
              "[665320 rows x 5 columns]"
            ]
          },
          "execution_count": 53,
          "metadata": {},
          "output_type": "execute_result"
        }
      ],
      "source": [
        "strat_train_set"
      ]
    },
    {
      "cell_type": "code",
      "execution_count": null,
      "id": "8d350ee1",
      "metadata": {
        "scrolled": true,
        "id": "8d350ee1",
        "outputId": "3f7485e0-9578-42b5-c931-7404d0b37c71"
      },
      "outputs": [
        {
          "data": {
            "text/plain": [
              "chicken bouillon granules       32174\n",
              "maggi                           24393\n",
              "amaretti                        18796\n",
              "fino sherry                     18591\n",
              "1% low-fat cottage cheese       18563\n",
              "field peas                      15297\n",
              "whole grain mustard              9652\n",
              "morel                            6365\n",
              "red bell pepper, sliced          6072\n",
              "bagels                           5602\n",
              "fresh sage                       5581\n",
              "cotija                           1921\n",
              "toasted walnuts                   546\n",
              "fine salt                         487\n",
              "acorn squash                      466\n",
              "gluten free soy sauce             453\n",
              "dry yeast                         444\n",
              "long grain and wild rice mix      293\n",
              "parmigiano-reggiano cheese        281\n",
              "snails                            266\n",
              "lamb chops                         28\n",
              "reduced fat cream cheese           19\n",
              "asian basil                        17\n",
              "whipped topping                     8\n",
              "Aberlour                            6\n",
              "Brancott                            6\n",
              "dates                               4\n",
              "Name: Product Category 2, dtype: int64"
            ]
          },
          "execution_count": 54,
          "metadata": {},
          "output_type": "execute_result"
        }
      ],
      "source": [
        "strat_test_set['Product Category 2'].value_counts()"
      ]
    },
    {
      "cell_type": "code",
      "execution_count": null,
      "id": "7b23e408",
      "metadata": {
        "scrolled": true,
        "id": "7b23e408",
        "outputId": "dcbb9a25-c279-420f-9c96-a92bdc8c148f"
      },
      "outputs": [
        {
          "data": {
            "text/plain": [
              "chicken bouillon granules       128697\n",
              "maggi                            97569\n",
              "amaretti                         75185\n",
              "fino sherry                      74366\n",
              "1% low-fat cottage cheese        74250\n",
              "field peas                       61186\n",
              "whole grain mustard              38606\n",
              "morel                            25462\n",
              "red bell pepper, sliced          24288\n",
              "bagels                           22408\n",
              "fresh sage                       22324\n",
              "cotija                            7682\n",
              "toasted walnuts                   2185\n",
              "fine salt                         1947\n",
              "acorn squash                      1866\n",
              "gluten free soy sauce             1813\n",
              "dry yeast                         1774\n",
              "long grain and wild rice mix      1173\n",
              "parmigiano-reggiano cheese        1122\n",
              "snails                            1064\n",
              "lamb chops                         113\n",
              "reduced fat cream cheese            77\n",
              "asian basil                         68\n",
              "whipped topping                     33\n",
              "Aberlour                            23\n",
              "Brancott                            23\n",
              "dates                               16\n",
              "Name: Product Category 2, dtype: int64"
            ]
          },
          "execution_count": 55,
          "metadata": {},
          "output_type": "execute_result"
        }
      ],
      "source": [
        "strat_train_set['Product Category 2'].value_counts()"
      ]
    },
    {
      "cell_type": "code",
      "execution_count": null,
      "id": "e7efe5f2",
      "metadata": {
        "id": "e7efe5f2",
        "outputId": "148928e3-c7a0-4af9-c63d-58d9c3d2ca7e"
      },
      "outputs": [
        {
          "name": "stdout",
          "output_type": "stream",
          "text": [
            "<class 'pandas.core.frame.DataFrame'>\n",
            "RangeIndex: 665320 entries, 0 to 665319\n",
            "Data columns (total 5 columns):\n",
            " #   Column              Non-Null Count   Dtype  \n",
            "---  ------              --------------   -----  \n",
            " 0   Product Category 2  665320 non-null  object \n",
            " 1   Commission          665320 non-null  float64\n",
            " 2   Units sold          665320 non-null  float64\n",
            " 3   Revenue             665320 non-null  float64\n",
            " 4   PercentCommission   665320 non-null  float64\n",
            "dtypes: float64(4), object(1)\n",
            "memory usage: 25.4+ MB\n"
          ]
        }
      ],
      "source": [
        "strat_train_set.info()"
      ]
    },
    {
      "cell_type": "code",
      "execution_count": null,
      "id": "0eddad0b",
      "metadata": {
        "scrolled": false,
        "id": "0eddad0b"
      },
      "outputs": [],
      "source": [
        "#one hot encoding on bith test and train set\n",
        "def Encoding(data):\n",
        "    data['Product Category 2'].value_counts().sort_values(ascending = False).head(20)\n",
        "    top_10_occurring_cat = [cat for cat in data['Product Category 2'].value_counts().sort_values(ascending = False).head(20).index]\n",
        "    for cat in top_10_occurring_cat:\n",
        "        data[cat] = np.where(data['Product Category 2'] == cat, 1, 0) # whenever data['b'] == cat replace it with 1 else 0\n",
        "    return data"
      ]
    },
    {
      "cell_type": "code",
      "execution_count": null,
      "id": "7855eb34",
      "metadata": {
        "scrolled": true,
        "id": "7855eb34",
        "outputId": "9313d98c-a3d8-4a39-bf11-c85377d3b318"
      },
      "outputs": [
        {
          "data": {
            "text/html": [
              "<div>\n",
              "<style scoped>\n",
              "    .dataframe tbody tr th:only-of-type {\n",
              "        vertical-align: middle;\n",
              "    }\n",
              "\n",
              "    .dataframe tbody tr th {\n",
              "        vertical-align: top;\n",
              "    }\n",
              "\n",
              "    .dataframe thead th {\n",
              "        text-align: right;\n",
              "    }\n",
              "</style>\n",
              "<table border=\"1\" class=\"dataframe\">\n",
              "  <thead>\n",
              "    <tr style=\"text-align: right;\">\n",
              "      <th></th>\n",
              "      <th>Product Category 2</th>\n",
              "      <th>Commission</th>\n",
              "      <th>Units sold</th>\n",
              "      <th>Revenue</th>\n",
              "      <th>PercentCommission</th>\n",
              "      <th>chicken bouillon granules</th>\n",
              "      <th>maggi</th>\n",
              "      <th>amaretti</th>\n",
              "      <th>fino sherry</th>\n",
              "      <th>1% low-fat cottage cheese</th>\n",
              "      <th>...</th>\n",
              "      <th>fresh sage</th>\n",
              "      <th>cotija</th>\n",
              "      <th>toasted walnuts</th>\n",
              "      <th>fine salt</th>\n",
              "      <th>acorn squash</th>\n",
              "      <th>gluten free soy sauce</th>\n",
              "      <th>dry yeast</th>\n",
              "      <th>long grain and wild rice mix</th>\n",
              "      <th>parmigiano-reggiano cheese</th>\n",
              "      <th>snails</th>\n",
              "    </tr>\n",
              "  </thead>\n",
              "  <tbody>\n",
              "    <tr>\n",
              "      <th>0</th>\n",
              "      <td>bagels</td>\n",
              "      <td>0.000000</td>\n",
              "      <td>2.512120</td>\n",
              "      <td>5.124725e+04</td>\n",
              "      <td>0.000000</td>\n",
              "      <td>0</td>\n",
              "      <td>0</td>\n",
              "      <td>0</td>\n",
              "      <td>0</td>\n",
              "      <td>0</td>\n",
              "      <td>...</td>\n",
              "      <td>0</td>\n",
              "      <td>0</td>\n",
              "      <td>0</td>\n",
              "      <td>0</td>\n",
              "      <td>0</td>\n",
              "      <td>0</td>\n",
              "      <td>0</td>\n",
              "      <td>0</td>\n",
              "      <td>0</td>\n",
              "      <td>0</td>\n",
              "    </tr>\n",
              "    <tr>\n",
              "      <th>1</th>\n",
              "      <td>chicken bouillon granules</td>\n",
              "      <td>497.334339</td>\n",
              "      <td>4.973343</td>\n",
              "      <td>3.342087e+04</td>\n",
              "      <td>0.014881</td>\n",
              "      <td>1</td>\n",
              "      <td>0</td>\n",
              "      <td>0</td>\n",
              "      <td>0</td>\n",
              "      <td>0</td>\n",
              "      <td>...</td>\n",
              "      <td>0</td>\n",
              "      <td>0</td>\n",
              "      <td>0</td>\n",
              "      <td>0</td>\n",
              "      <td>0</td>\n",
              "      <td>0</td>\n",
              "      <td>0</td>\n",
              "      <td>0</td>\n",
              "      <td>0</td>\n",
              "      <td>0</td>\n",
              "    </tr>\n",
              "    <tr>\n",
              "      <th>2</th>\n",
              "      <td>maggi</td>\n",
              "      <td>2021.713415</td>\n",
              "      <td>40.234757</td>\n",
              "      <td>2.896903e+05</td>\n",
              "      <td>0.006979</td>\n",
              "      <td>0</td>\n",
              "      <td>1</td>\n",
              "      <td>0</td>\n",
              "      <td>0</td>\n",
              "      <td>0</td>\n",
              "      <td>...</td>\n",
              "      <td>0</td>\n",
              "      <td>0</td>\n",
              "      <td>0</td>\n",
              "      <td>0</td>\n",
              "      <td>0</td>\n",
              "      <td>0</td>\n",
              "      <td>0</td>\n",
              "      <td>0</td>\n",
              "      <td>0</td>\n",
              "      <td>0</td>\n",
              "    </tr>\n",
              "    <tr>\n",
              "      <th>3</th>\n",
              "      <td>morel</td>\n",
              "      <td>0.000000</td>\n",
              "      <td>2.480191</td>\n",
              "      <td>4.881015e+04</td>\n",
              "      <td>0.000000</td>\n",
              "      <td>0</td>\n",
              "      <td>0</td>\n",
              "      <td>0</td>\n",
              "      <td>0</td>\n",
              "      <td>0</td>\n",
              "      <td>...</td>\n",
              "      <td>0</td>\n",
              "      <td>0</td>\n",
              "      <td>0</td>\n",
              "      <td>0</td>\n",
              "      <td>0</td>\n",
              "      <td>0</td>\n",
              "      <td>0</td>\n",
              "      <td>0</td>\n",
              "      <td>0</td>\n",
              "      <td>0</td>\n",
              "    </tr>\n",
              "    <tr>\n",
              "      <th>4</th>\n",
              "      <td>morel</td>\n",
              "      <td>0.000000</td>\n",
              "      <td>14.994106</td>\n",
              "      <td>4.426260e+05</td>\n",
              "      <td>0.000000</td>\n",
              "      <td>0</td>\n",
              "      <td>0</td>\n",
              "      <td>0</td>\n",
              "      <td>0</td>\n",
              "      <td>0</td>\n",
              "      <td>...</td>\n",
              "      <td>0</td>\n",
              "      <td>0</td>\n",
              "      <td>0</td>\n",
              "      <td>0</td>\n",
              "      <td>0</td>\n",
              "      <td>0</td>\n",
              "      <td>0</td>\n",
              "      <td>0</td>\n",
              "      <td>0</td>\n",
              "      <td>0</td>\n",
              "    </tr>\n",
              "    <tr>\n",
              "      <th>...</th>\n",
              "      <td>...</td>\n",
              "      <td>...</td>\n",
              "      <td>...</td>\n",
              "      <td>...</td>\n",
              "      <td>...</td>\n",
              "      <td>...</td>\n",
              "      <td>...</td>\n",
              "      <td>...</td>\n",
              "      <td>...</td>\n",
              "      <td>...</td>\n",
              "      <td>...</td>\n",
              "      <td>...</td>\n",
              "      <td>...</td>\n",
              "      <td>...</td>\n",
              "      <td>...</td>\n",
              "      <td>...</td>\n",
              "      <td>...</td>\n",
              "      <td>...</td>\n",
              "      <td>...</td>\n",
              "      <td>...</td>\n",
              "      <td>...</td>\n",
              "    </tr>\n",
              "    <tr>\n",
              "      <th>665315</th>\n",
              "      <td>1% low-fat cottage cheese</td>\n",
              "      <td>0.000000</td>\n",
              "      <td>12.404223</td>\n",
              "      <td>1.250346e+05</td>\n",
              "      <td>0.000000</td>\n",
              "      <td>0</td>\n",
              "      <td>0</td>\n",
              "      <td>0</td>\n",
              "      <td>0</td>\n",
              "      <td>1</td>\n",
              "      <td>...</td>\n",
              "      <td>0</td>\n",
              "      <td>0</td>\n",
              "      <td>0</td>\n",
              "      <td>0</td>\n",
              "      <td>0</td>\n",
              "      <td>0</td>\n",
              "      <td>0</td>\n",
              "      <td>0</td>\n",
              "      <td>0</td>\n",
              "      <td>0</td>\n",
              "    </tr>\n",
              "    <tr>\n",
              "      <th>665316</th>\n",
              "      <td>maggi</td>\n",
              "      <td>2544.226615</td>\n",
              "      <td>42.265056</td>\n",
              "      <td>3.043084e+05</td>\n",
              "      <td>0.008361</td>\n",
              "      <td>0</td>\n",
              "      <td>1</td>\n",
              "      <td>0</td>\n",
              "      <td>0</td>\n",
              "      <td>0</td>\n",
              "      <td>...</td>\n",
              "      <td>0</td>\n",
              "      <td>0</td>\n",
              "      <td>0</td>\n",
              "      <td>0</td>\n",
              "      <td>0</td>\n",
              "      <td>0</td>\n",
              "      <td>0</td>\n",
              "      <td>0</td>\n",
              "      <td>0</td>\n",
              "      <td>0</td>\n",
              "    </tr>\n",
              "    <tr>\n",
              "      <th>665317</th>\n",
              "      <td>red bell pepper, sliced</td>\n",
              "      <td>7368.820489</td>\n",
              "      <td>2.517680</td>\n",
              "      <td>4.833946e+04</td>\n",
              "      <td>0.152439</td>\n",
              "      <td>0</td>\n",
              "      <td>0</td>\n",
              "      <td>0</td>\n",
              "      <td>0</td>\n",
              "      <td>0</td>\n",
              "      <td>...</td>\n",
              "      <td>0</td>\n",
              "      <td>0</td>\n",
              "      <td>0</td>\n",
              "      <td>0</td>\n",
              "      <td>0</td>\n",
              "      <td>0</td>\n",
              "      <td>0</td>\n",
              "      <td>0</td>\n",
              "      <td>0</td>\n",
              "      <td>0</td>\n",
              "    </tr>\n",
              "    <tr>\n",
              "      <th>665318</th>\n",
              "      <td>amaretti</td>\n",
              "      <td>54954.598922</td>\n",
              "      <td>213.775027</td>\n",
              "      <td>1.231344e+06</td>\n",
              "      <td>0.044630</td>\n",
              "      <td>0</td>\n",
              "      <td>0</td>\n",
              "      <td>1</td>\n",
              "      <td>0</td>\n",
              "      <td>0</td>\n",
              "      <td>...</td>\n",
              "      <td>0</td>\n",
              "      <td>0</td>\n",
              "      <td>0</td>\n",
              "      <td>0</td>\n",
              "      <td>0</td>\n",
              "      <td>0</td>\n",
              "      <td>0</td>\n",
              "      <td>0</td>\n",
              "      <td>0</td>\n",
              "      <td>0</td>\n",
              "    </tr>\n",
              "    <tr>\n",
              "      <th>665319</th>\n",
              "      <td>field peas</td>\n",
              "      <td>14270.472129</td>\n",
              "      <td>20.069267</td>\n",
              "      <td>2.408312e+05</td>\n",
              "      <td>0.059255</td>\n",
              "      <td>0</td>\n",
              "      <td>0</td>\n",
              "      <td>0</td>\n",
              "      <td>0</td>\n",
              "      <td>0</td>\n",
              "      <td>...</td>\n",
              "      <td>0</td>\n",
              "      <td>0</td>\n",
              "      <td>0</td>\n",
              "      <td>0</td>\n",
              "      <td>0</td>\n",
              "      <td>0</td>\n",
              "      <td>0</td>\n",
              "      <td>0</td>\n",
              "      <td>0</td>\n",
              "      <td>0</td>\n",
              "    </tr>\n",
              "  </tbody>\n",
              "</table>\n",
              "<p>665320 rows × 25 columns</p>\n",
              "</div>"
            ],
            "text/plain": [
              "               Product Category 2    Commission  Units sold       Revenue  \\\n",
              "0                          bagels      0.000000    2.512120  5.124725e+04   \n",
              "1       chicken bouillon granules    497.334339    4.973343  3.342087e+04   \n",
              "2                           maggi   2021.713415   40.234757  2.896903e+05   \n",
              "3                           morel      0.000000    2.480191  4.881015e+04   \n",
              "4                           morel      0.000000   14.994106  4.426260e+05   \n",
              "...                           ...           ...         ...           ...   \n",
              "665315  1% low-fat cottage cheese      0.000000   12.404223  1.250346e+05   \n",
              "665316                      maggi   2544.226615   42.265056  3.043084e+05   \n",
              "665317    red bell pepper, sliced   7368.820489    2.517680  4.833946e+04   \n",
              "665318                   amaretti  54954.598922  213.775027  1.231344e+06   \n",
              "665319                 field peas  14270.472129   20.069267  2.408312e+05   \n",
              "\n",
              "        PercentCommission  chicken bouillon granules  maggi  amaretti  \\\n",
              "0                0.000000                          0      0         0   \n",
              "1                0.014881                          1      0         0   \n",
              "2                0.006979                          0      1         0   \n",
              "3                0.000000                          0      0         0   \n",
              "4                0.000000                          0      0         0   \n",
              "...                   ...                        ...    ...       ...   \n",
              "665315           0.000000                          0      0         0   \n",
              "665316           0.008361                          0      1         0   \n",
              "665317           0.152439                          0      0         0   \n",
              "665318           0.044630                          0      0         1   \n",
              "665319           0.059255                          0      0         0   \n",
              "\n",
              "        fino sherry  1% low-fat cottage cheese  ...  fresh sage  cotija  \\\n",
              "0                 0                          0  ...           0       0   \n",
              "1                 0                          0  ...           0       0   \n",
              "2                 0                          0  ...           0       0   \n",
              "3                 0                          0  ...           0       0   \n",
              "4                 0                          0  ...           0       0   \n",
              "...             ...                        ...  ...         ...     ...   \n",
              "665315            0                          1  ...           0       0   \n",
              "665316            0                          0  ...           0       0   \n",
              "665317            0                          0  ...           0       0   \n",
              "665318            0                          0  ...           0       0   \n",
              "665319            0                          0  ...           0       0   \n",
              "\n",
              "        toasted walnuts  fine salt  acorn squash  gluten free soy sauce  \\\n",
              "0                     0          0             0                      0   \n",
              "1                     0          0             0                      0   \n",
              "2                     0          0             0                      0   \n",
              "3                     0          0             0                      0   \n",
              "4                     0          0             0                      0   \n",
              "...                 ...        ...           ...                    ...   \n",
              "665315                0          0             0                      0   \n",
              "665316                0          0             0                      0   \n",
              "665317                0          0             0                      0   \n",
              "665318                0          0             0                      0   \n",
              "665319                0          0             0                      0   \n",
              "\n",
              "        dry yeast  long grain and wild rice mix  parmigiano-reggiano cheese  \\\n",
              "0               0                             0                           0   \n",
              "1               0                             0                           0   \n",
              "2               0                             0                           0   \n",
              "3               0                             0                           0   \n",
              "4               0                             0                           0   \n",
              "...           ...                           ...                         ...   \n",
              "665315          0                             0                           0   \n",
              "665316          0                             0                           0   \n",
              "665317          0                             0                           0   \n",
              "665318          0                             0                           0   \n",
              "665319          0                             0                           0   \n",
              "\n",
              "        snails  \n",
              "0            0  \n",
              "1            0  \n",
              "2            0  \n",
              "3            0  \n",
              "4            0  \n",
              "...        ...  \n",
              "665315       0  \n",
              "665316       0  \n",
              "665317       0  \n",
              "665318       0  \n",
              "665319       0  \n",
              "\n",
              "[665320 rows x 25 columns]"
            ]
          },
          "execution_count": 58,
          "metadata": {},
          "output_type": "execute_result"
        }
      ],
      "source": [
        "Encoding(strat_train_set)\n",
        "strat_train_set"
      ]
    },
    {
      "cell_type": "code",
      "execution_count": null,
      "id": "767538ba",
      "metadata": {
        "scrolled": true,
        "id": "767538ba",
        "outputId": "6265f739-a800-4800-cd37-a6d8e913ad30"
      },
      "outputs": [
        {
          "data": {
            "text/html": [
              "<div>\n",
              "<style scoped>\n",
              "    .dataframe tbody tr th:only-of-type {\n",
              "        vertical-align: middle;\n",
              "    }\n",
              "\n",
              "    .dataframe tbody tr th {\n",
              "        vertical-align: top;\n",
              "    }\n",
              "\n",
              "    .dataframe thead th {\n",
              "        text-align: right;\n",
              "    }\n",
              "</style>\n",
              "<table border=\"1\" class=\"dataframe\">\n",
              "  <thead>\n",
              "    <tr style=\"text-align: right;\">\n",
              "      <th></th>\n",
              "      <th>Product Category 2</th>\n",
              "      <th>Commission</th>\n",
              "      <th>Units sold</th>\n",
              "      <th>Revenue</th>\n",
              "      <th>PercentCommission</th>\n",
              "      <th>chicken bouillon granules</th>\n",
              "      <th>maggi</th>\n",
              "      <th>amaretti</th>\n",
              "      <th>fino sherry</th>\n",
              "      <th>1% low-fat cottage cheese</th>\n",
              "      <th>...</th>\n",
              "      <th>fresh sage</th>\n",
              "      <th>cotija</th>\n",
              "      <th>toasted walnuts</th>\n",
              "      <th>fine salt</th>\n",
              "      <th>acorn squash</th>\n",
              "      <th>gluten free soy sauce</th>\n",
              "      <th>dry yeast</th>\n",
              "      <th>long grain and wild rice mix</th>\n",
              "      <th>parmigiano-reggiano cheese</th>\n",
              "      <th>snails</th>\n",
              "    </tr>\n",
              "  </thead>\n",
              "  <tbody>\n",
              "    <tr>\n",
              "      <th>0</th>\n",
              "      <td>fino sherry</td>\n",
              "      <td>0.000000</td>\n",
              "      <td>4.976274</td>\n",
              "      <td>5.971529e+04</td>\n",
              "      <td>0.000000</td>\n",
              "      <td>0</td>\n",
              "      <td>0</td>\n",
              "      <td>0</td>\n",
              "      <td>1</td>\n",
              "      <td>0</td>\n",
              "      <td>...</td>\n",
              "      <td>0</td>\n",
              "      <td>0</td>\n",
              "      <td>0</td>\n",
              "      <td>0</td>\n",
              "      <td>0</td>\n",
              "      <td>0</td>\n",
              "      <td>0</td>\n",
              "      <td>0</td>\n",
              "      <td>0</td>\n",
              "      <td>0</td>\n",
              "    </tr>\n",
              "    <tr>\n",
              "      <th>1</th>\n",
              "      <td>bagels</td>\n",
              "      <td>29483.484721</td>\n",
              "      <td>7.438015</td>\n",
              "      <td>2.204628e+05</td>\n",
              "      <td>0.133735</td>\n",
              "      <td>0</td>\n",
              "      <td>0</td>\n",
              "      <td>0</td>\n",
              "      <td>0</td>\n",
              "      <td>0</td>\n",
              "      <td>...</td>\n",
              "      <td>0</td>\n",
              "      <td>0</td>\n",
              "      <td>0</td>\n",
              "      <td>0</td>\n",
              "      <td>0</td>\n",
              "      <td>0</td>\n",
              "      <td>0</td>\n",
              "      <td>0</td>\n",
              "      <td>0</td>\n",
              "      <td>0</td>\n",
              "    </tr>\n",
              "    <tr>\n",
              "      <th>2</th>\n",
              "      <td>chicken bouillon granules</td>\n",
              "      <td>0.000000</td>\n",
              "      <td>32.390533</td>\n",
              "      <td>1.661634e+05</td>\n",
              "      <td>0.000000</td>\n",
              "      <td>1</td>\n",
              "      <td>0</td>\n",
              "      <td>0</td>\n",
              "      <td>0</td>\n",
              "      <td>0</td>\n",
              "      <td>...</td>\n",
              "      <td>0</td>\n",
              "      <td>0</td>\n",
              "      <td>0</td>\n",
              "      <td>0</td>\n",
              "      <td>0</td>\n",
              "      <td>0</td>\n",
              "      <td>0</td>\n",
              "      <td>0</td>\n",
              "      <td>0</td>\n",
              "      <td>0</td>\n",
              "    </tr>\n",
              "    <tr>\n",
              "      <th>3</th>\n",
              "      <td>fino sherry</td>\n",
              "      <td>3720.920334</td>\n",
              "      <td>2.480614</td>\n",
              "      <td>3.572084e+04</td>\n",
              "      <td>0.104167</td>\n",
              "      <td>0</td>\n",
              "      <td>0</td>\n",
              "      <td>0</td>\n",
              "      <td>1</td>\n",
              "      <td>0</td>\n",
              "      <td>...</td>\n",
              "      <td>0</td>\n",
              "      <td>0</td>\n",
              "      <td>0</td>\n",
              "      <td>0</td>\n",
              "      <td>0</td>\n",
              "      <td>0</td>\n",
              "      <td>0</td>\n",
              "      <td>0</td>\n",
              "      <td>0</td>\n",
              "      <td>0</td>\n",
              "    </tr>\n",
              "    <tr>\n",
              "      <th>4</th>\n",
              "      <td>fino sherry</td>\n",
              "      <td>4623.281967</td>\n",
              "      <td>12.495357</td>\n",
              "      <td>1.499443e+05</td>\n",
              "      <td>0.030833</td>\n",
              "      <td>0</td>\n",
              "      <td>0</td>\n",
              "      <td>0</td>\n",
              "      <td>1</td>\n",
              "      <td>0</td>\n",
              "      <td>...</td>\n",
              "      <td>0</td>\n",
              "      <td>0</td>\n",
              "      <td>0</td>\n",
              "      <td>0</td>\n",
              "      <td>0</td>\n",
              "      <td>0</td>\n",
              "      <td>0</td>\n",
              "      <td>0</td>\n",
              "      <td>0</td>\n",
              "      <td>0</td>\n",
              "    </tr>\n",
              "    <tr>\n",
              "      <th>...</th>\n",
              "      <td>...</td>\n",
              "      <td>...</td>\n",
              "      <td>...</td>\n",
              "      <td>...</td>\n",
              "      <td>...</td>\n",
              "      <td>...</td>\n",
              "      <td>...</td>\n",
              "      <td>...</td>\n",
              "      <td>...</td>\n",
              "      <td>...</td>\n",
              "      <td>...</td>\n",
              "      <td>...</td>\n",
              "      <td>...</td>\n",
              "      <td>...</td>\n",
              "      <td>...</td>\n",
              "      <td>...</td>\n",
              "      <td>...</td>\n",
              "      <td>...</td>\n",
              "      <td>...</td>\n",
              "      <td>...</td>\n",
              "      <td>...</td>\n",
              "    </tr>\n",
              "    <tr>\n",
              "      <th>166326</th>\n",
              "      <td>1% low-fat cottage cheese</td>\n",
              "      <td>1448.359948</td>\n",
              "      <td>4.954916</td>\n",
              "      <td>4.518883e+04</td>\n",
              "      <td>0.032051</td>\n",
              "      <td>0</td>\n",
              "      <td>0</td>\n",
              "      <td>0</td>\n",
              "      <td>0</td>\n",
              "      <td>1</td>\n",
              "      <td>...</td>\n",
              "      <td>0</td>\n",
              "      <td>0</td>\n",
              "      <td>0</td>\n",
              "      <td>0</td>\n",
              "      <td>0</td>\n",
              "      <td>0</td>\n",
              "      <td>0</td>\n",
              "      <td>0</td>\n",
              "      <td>0</td>\n",
              "      <td>0</td>\n",
              "    </tr>\n",
              "    <tr>\n",
              "      <th>166327</th>\n",
              "      <td>chicken bouillon granules</td>\n",
              "      <td>0.000000</td>\n",
              "      <td>777.702810</td>\n",
              "      <td>4.106271e+06</td>\n",
              "      <td>0.000000</td>\n",
              "      <td>1</td>\n",
              "      <td>0</td>\n",
              "      <td>0</td>\n",
              "      <td>0</td>\n",
              "      <td>0</td>\n",
              "      <td>...</td>\n",
              "      <td>0</td>\n",
              "      <td>0</td>\n",
              "      <td>0</td>\n",
              "      <td>0</td>\n",
              "      <td>0</td>\n",
              "      <td>0</td>\n",
              "      <td>0</td>\n",
              "      <td>0</td>\n",
              "      <td>0</td>\n",
              "      <td>0</td>\n",
              "    </tr>\n",
              "    <tr>\n",
              "      <th>166328</th>\n",
              "      <td>red bell pepper, sliced</td>\n",
              "      <td>0.000000</td>\n",
              "      <td>2.479803</td>\n",
              "      <td>4.761222e+04</td>\n",
              "      <td>0.000000</td>\n",
              "      <td>0</td>\n",
              "      <td>0</td>\n",
              "      <td>0</td>\n",
              "      <td>0</td>\n",
              "      <td>0</td>\n",
              "      <td>...</td>\n",
              "      <td>0</td>\n",
              "      <td>0</td>\n",
              "      <td>0</td>\n",
              "      <td>0</td>\n",
              "      <td>0</td>\n",
              "      <td>0</td>\n",
              "      <td>0</td>\n",
              "      <td>0</td>\n",
              "      <td>0</td>\n",
              "      <td>0</td>\n",
              "    </tr>\n",
              "    <tr>\n",
              "      <th>166329</th>\n",
              "      <td>bagels</td>\n",
              "      <td>22960.706388</td>\n",
              "      <td>7.515858</td>\n",
              "      <td>1.533235e+05</td>\n",
              "      <td>0.149753</td>\n",
              "      <td>0</td>\n",
              "      <td>0</td>\n",
              "      <td>0</td>\n",
              "      <td>0</td>\n",
              "      <td>0</td>\n",
              "      <td>...</td>\n",
              "      <td>0</td>\n",
              "      <td>0</td>\n",
              "      <td>0</td>\n",
              "      <td>0</td>\n",
              "      <td>0</td>\n",
              "      <td>0</td>\n",
              "      <td>0</td>\n",
              "      <td>0</td>\n",
              "      <td>0</td>\n",
              "      <td>0</td>\n",
              "    </tr>\n",
              "    <tr>\n",
              "      <th>166330</th>\n",
              "      <td>chicken bouillon granules</td>\n",
              "      <td>5396.058684</td>\n",
              "      <td>67.717677</td>\n",
              "      <td>3.900538e+05</td>\n",
              "      <td>0.013834</td>\n",
              "      <td>1</td>\n",
              "      <td>0</td>\n",
              "      <td>0</td>\n",
              "      <td>0</td>\n",
              "      <td>0</td>\n",
              "      <td>...</td>\n",
              "      <td>0</td>\n",
              "      <td>0</td>\n",
              "      <td>0</td>\n",
              "      <td>0</td>\n",
              "      <td>0</td>\n",
              "      <td>0</td>\n",
              "      <td>0</td>\n",
              "      <td>0</td>\n",
              "      <td>0</td>\n",
              "      <td>0</td>\n",
              "    </tr>\n",
              "  </tbody>\n",
              "</table>\n",
              "<p>166331 rows × 25 columns</p>\n",
              "</div>"
            ],
            "text/plain": [
              "               Product Category 2    Commission  Units sold       Revenue  \\\n",
              "0                     fino sherry      0.000000    4.976274  5.971529e+04   \n",
              "1                          bagels  29483.484721    7.438015  2.204628e+05   \n",
              "2       chicken bouillon granules      0.000000   32.390533  1.661634e+05   \n",
              "3                     fino sherry   3720.920334    2.480614  3.572084e+04   \n",
              "4                     fino sherry   4623.281967   12.495357  1.499443e+05   \n",
              "...                           ...           ...         ...           ...   \n",
              "166326  1% low-fat cottage cheese   1448.359948    4.954916  4.518883e+04   \n",
              "166327  chicken bouillon granules      0.000000  777.702810  4.106271e+06   \n",
              "166328    red bell pepper, sliced      0.000000    2.479803  4.761222e+04   \n",
              "166329                     bagels  22960.706388    7.515858  1.533235e+05   \n",
              "166330  chicken bouillon granules   5396.058684   67.717677  3.900538e+05   \n",
              "\n",
              "        PercentCommission  chicken bouillon granules  maggi  amaretti  \\\n",
              "0                0.000000                          0      0         0   \n",
              "1                0.133735                          0      0         0   \n",
              "2                0.000000                          1      0         0   \n",
              "3                0.104167                          0      0         0   \n",
              "4                0.030833                          0      0         0   \n",
              "...                   ...                        ...    ...       ...   \n",
              "166326           0.032051                          0      0         0   \n",
              "166327           0.000000                          1      0         0   \n",
              "166328           0.000000                          0      0         0   \n",
              "166329           0.149753                          0      0         0   \n",
              "166330           0.013834                          1      0         0   \n",
              "\n",
              "        fino sherry  1% low-fat cottage cheese  ...  fresh sage  cotija  \\\n",
              "0                 1                          0  ...           0       0   \n",
              "1                 0                          0  ...           0       0   \n",
              "2                 0                          0  ...           0       0   \n",
              "3                 1                          0  ...           0       0   \n",
              "4                 1                          0  ...           0       0   \n",
              "...             ...                        ...  ...         ...     ...   \n",
              "166326            0                          1  ...           0       0   \n",
              "166327            0                          0  ...           0       0   \n",
              "166328            0                          0  ...           0       0   \n",
              "166329            0                          0  ...           0       0   \n",
              "166330            0                          0  ...           0       0   \n",
              "\n",
              "        toasted walnuts  fine salt  acorn squash  gluten free soy sauce  \\\n",
              "0                     0          0             0                      0   \n",
              "1                     0          0             0                      0   \n",
              "2                     0          0             0                      0   \n",
              "3                     0          0             0                      0   \n",
              "4                     0          0             0                      0   \n",
              "...                 ...        ...           ...                    ...   \n",
              "166326                0          0             0                      0   \n",
              "166327                0          0             0                      0   \n",
              "166328                0          0             0                      0   \n",
              "166329                0          0             0                      0   \n",
              "166330                0          0             0                      0   \n",
              "\n",
              "        dry yeast  long grain and wild rice mix  parmigiano-reggiano cheese  \\\n",
              "0               0                             0                           0   \n",
              "1               0                             0                           0   \n",
              "2               0                             0                           0   \n",
              "3               0                             0                           0   \n",
              "4               0                             0                           0   \n",
              "...           ...                           ...                         ...   \n",
              "166326          0                             0                           0   \n",
              "166327          0                             0                           0   \n",
              "166328          0                             0                           0   \n",
              "166329          0                             0                           0   \n",
              "166330          0                             0                           0   \n",
              "\n",
              "        snails  \n",
              "0            0  \n",
              "1            0  \n",
              "2            0  \n",
              "3            0  \n",
              "4            0  \n",
              "...        ...  \n",
              "166326       0  \n",
              "166327       0  \n",
              "166328       0  \n",
              "166329       0  \n",
              "166330       0  \n",
              "\n",
              "[166331 rows x 25 columns]"
            ]
          },
          "execution_count": 59,
          "metadata": {},
          "output_type": "execute_result"
        }
      ],
      "source": [
        "Encoding(strat_test_set)\n",
        "strat_test_set"
      ]
    },
    {
      "cell_type": "code",
      "execution_count": null,
      "id": "62a33870",
      "metadata": {
        "id": "62a33870"
      },
      "outputs": [],
      "source": [
        "y_train=strat_train_set['Commission']\n",
        "y_test=strat_test_set['Commission']"
      ]
    },
    {
      "cell_type": "code",
      "execution_count": null,
      "id": "2ced6a2d",
      "metadata": {
        "scrolled": true,
        "id": "2ced6a2d",
        "outputId": "fcbb3a92-e6d9-44a5-9164-536c5229c39d"
      },
      "outputs": [
        {
          "data": {
            "text/plain": [
              "0             0.000000\n",
              "1           497.334339\n",
              "2          2021.713415\n",
              "3             0.000000\n",
              "4             0.000000\n",
              "              ...     \n",
              "665315        0.000000\n",
              "665316     2544.226615\n",
              "665317     7368.820489\n",
              "665318    54954.598922\n",
              "665319    14270.472129\n",
              "Name: Commission, Length: 665320, dtype: float64"
            ]
          },
          "execution_count": 61,
          "metadata": {},
          "output_type": "execute_result"
        }
      ],
      "source": [
        "y_train\n"
      ]
    },
    {
      "cell_type": "code",
      "execution_count": null,
      "id": "08e130be",
      "metadata": {
        "scrolled": true,
        "id": "08e130be",
        "outputId": "c3aa17fe-d5e9-4a4a-e8c7-e4dd88334638"
      },
      "outputs": [
        {
          "name": "stderr",
          "output_type": "stream",
          "text": [
            "C:\\Users\\Hp\\AppData\\Local\\Temp\\ipykernel_13264\\145699854.py:1: FutureWarning: In a future version of pandas all arguments of DataFrame.drop except for the argument 'labels' will be keyword-only.\n",
            "  strat_test_set.drop(['Commission','Product Category 2'],1,inplace=True)\n",
            "C:\\Users\\Hp\\AppData\\Local\\Temp\\ipykernel_13264\\145699854.py:2: FutureWarning: In a future version of pandas all arguments of DataFrame.drop except for the argument 'labels' will be keyword-only.\n",
            "  strat_train_set.drop(['Commission','Product Category 2'],1,inplace=True)\n"
          ]
        }
      ],
      "source": [
        "strat_test_set.drop(['Commission','Product Category 2'],1,inplace=True)\n",
        "strat_train_set.drop(['Commission','Product Category 2'],1,inplace=True)"
      ]
    },
    {
      "cell_type": "code",
      "execution_count": null,
      "id": "f562628d",
      "metadata": {
        "id": "f562628d"
      },
      "outputs": [],
      "source": [
        "\n",
        "x_test=strat_test_set\n",
        "x_train=strat_train_set"
      ]
    },
    {
      "cell_type": "code",
      "execution_count": null,
      "id": "cf190916",
      "metadata": {
        "scrolled": true,
        "id": "cf190916"
      },
      "outputs": [],
      "source": []
    },
    {
      "cell_type": "code",
      "execution_count": null,
      "id": "5634b4d7",
      "metadata": {
        "scrolled": false,
        "id": "5634b4d7",
        "outputId": "bd5faa00-9337-4bec-e29c-5d23e7de170d"
      },
      "outputs": [
        {
          "name": "stdout",
          "output_type": "stream",
          "text": [
            "<class 'pandas.core.frame.DataFrame'>\n",
            "RangeIndex: 665320 entries, 0 to 665319\n",
            "Data columns (total 23 columns):\n",
            " #   Column                        Non-Null Count   Dtype  \n",
            "---  ------                        --------------   -----  \n",
            " 0   Units sold                    665320 non-null  float64\n",
            " 1   Revenue                       665320 non-null  float64\n",
            " 2   PercentCommission             665320 non-null  float64\n",
            " 3   chicken bouillon granules     665320 non-null  int32  \n",
            " 4   maggi                         665320 non-null  int32  \n",
            " 5   amaretti                      665320 non-null  int32  \n",
            " 6   fino sherry                   665320 non-null  int32  \n",
            " 7   1% low-fat cottage cheese     665320 non-null  int32  \n",
            " 8   field peas                    665320 non-null  int32  \n",
            " 9   whole grain mustard           665320 non-null  int32  \n",
            " 10  morel                         665320 non-null  int32  \n",
            " 11  red bell pepper, sliced       665320 non-null  int32  \n",
            " 12  bagels                        665320 non-null  int32  \n",
            " 13  fresh sage                    665320 non-null  int32  \n",
            " 14  cotija                        665320 non-null  int32  \n",
            " 15  toasted walnuts               665320 non-null  int32  \n",
            " 16  fine salt                     665320 non-null  int32  \n",
            " 17  acorn squash                  665320 non-null  int32  \n",
            " 18  gluten free soy sauce         665320 non-null  int32  \n",
            " 19  dry yeast                     665320 non-null  int32  \n",
            " 20  long grain and wild rice mix  665320 non-null  int32  \n",
            " 21  parmigiano-reggiano cheese    665320 non-null  int32  \n",
            " 22  snails                        665320 non-null  int32  \n",
            "dtypes: float64(3), int32(20)\n",
            "memory usage: 66.0 MB\n"
          ]
        }
      ],
      "source": [
        "x_train.info()"
      ]
    },
    {
      "cell_type": "code",
      "execution_count": null,
      "id": "3d65d9e8",
      "metadata": {
        "id": "3d65d9e8"
      },
      "outputs": [],
      "source": []
    },
    {
      "cell_type": "markdown",
      "id": "0b6218a7",
      "metadata": {
        "id": "0b6218a7"
      },
      "source": [
        "# Model Building"
      ]
    },
    {
      "cell_type": "code",
      "execution_count": null,
      "id": "1b9bb7f0",
      "metadata": {
        "id": "1b9bb7f0",
        "outputId": "4ff27678-642e-421f-e6a4-058b4367b0f3"
      },
      "outputs": [
        {
          "data": {
            "text/plain": [
              "LinearRegression()"
            ]
          },
          "execution_count": 65,
          "metadata": {},
          "output_type": "execute_result"
        }
      ],
      "source": [
        "from sklearn.linear_model import LinearRegression\n",
        "from sklearn.ensemble import RandomForestRegressor\n",
        "model= LinearRegression()\n",
        "#model=RandomForestRegressor()\n",
        "model.fit(x_train,y_train)"
      ]
    },
    {
      "cell_type": "code",
      "execution_count": null,
      "id": "869e2d72",
      "metadata": {
        "id": "869e2d72"
      },
      "outputs": [],
      "source": [
        "y_pred = model.predict(x_test)"
      ]
    },
    {
      "cell_type": "code",
      "execution_count": null,
      "id": "43bca7bf",
      "metadata": {
        "id": "43bca7bf",
        "outputId": "7a7d187f-3c88-43ac-f133-5e09e4085647"
      },
      "outputs": [
        {
          "data": {
            "text/plain": [
              "0.5827729504220795"
            ]
          },
          "execution_count": 67,
          "metadata": {},
          "output_type": "execute_result"
        }
      ],
      "source": [
        "model.score(x_train, y_train)"
      ]
    },
    {
      "cell_type": "code",
      "execution_count": null,
      "id": "06ec39d5",
      "metadata": {
        "id": "06ec39d5",
        "outputId": "f2b5eac8-668c-4541-d2c2-7b53a9d6a470"
      },
      "outputs": [
        {
          "data": {
            "text/plain": [
              "0.536884206357875"
            ]
          },
          "execution_count": 69,
          "metadata": {},
          "output_type": "execute_result"
        }
      ],
      "source": [
        "model.score(x_test, y_test)"
      ]
    },
    {
      "cell_type": "code",
      "execution_count": null,
      "id": "1ba2152b",
      "metadata": {
        "id": "1ba2152b",
        "outputId": "917211ff-0101-4661-ccbb-0ddd14952e7f"
      },
      "outputs": [
        {
          "name": "stderr",
          "output_type": "stream",
          "text": [
            "C:\\Users\\Hp\\AppData\\Local\\Programs\\Python\\Python310\\lib\\site-packages\\seaborn\\_decorators.py:36: FutureWarning: Pass the following variables as keyword args: x, y. From version 0.12, the only valid positional argument will be `data`, and passing other arguments without an explicit keyword will result in an error or misinterpretation.\n",
            "  warnings.warn(\n"
          ]
        },
        {
          "data": {
            "image/png": "[encoded data removed]",
            "text/plain": [
              "<Figure size 432x288 with 1 Axes>"
            ]
          },
          "metadata": {
            "needs_background": "light"
          },
          "output_type": "display_data"
        }
      ],
      "source": [
        "sns.scatterplot(y_test,y_pred)\n",
        "plt.show()"
      ]
    },
    {
      "cell_type": "code",
      "execution_count": null,
      "id": "56979af3",
      "metadata": {
        "id": "56979af3",
        "outputId": "890c532c-5ebb-423d-c969-961f804543c9"
      },
      "outputs": [
        {
          "name": "stdout",
          "output_type": "stream",
          "text": [
            "MAE: 4808.324291763718\n",
            "MSE: 171874274.52826986\n",
            "RMSE: 13110.082933691529\n"
          ]
        }
      ],
      "source": [
        "from sklearn import metrics\n",
        "print('MAE:', metrics.mean_absolute_error(y_test, y_pred))\n",
        "print('MSE:', metrics.mean_squared_error(y_test, y_pred))\n",
        "print('RMSE:', np.sqrt(metrics.mean_squared_error(y_test, y_pred)))"
      ]
    },
    {
      "cell_type": "code",
      "execution_count": null,
      "id": "2ae1cef3",
      "metadata": {
        "id": "2ae1cef3"
      },
      "outputs": [],
      "source": []
    }
  ],
  "metadata": {
    "kernelspec": {
      "display_name": "Python 3 (ipykernel)",
      "language": "python",
      "name": "python3"
    },
    "language_info": {
      "codemirror_mode": {
        "name": "ipython",
        "version": 3
      },
      "file_extension": ".py",
      "mimetype": "text/x-python",
      "name": "python",
      "nbconvert_exporter": "python",
      "pygments_lexer": "ipython3",
      "version": "3.10.2"
    },
    "colab": {
      "provenance": []
    }
  },
  "nbformat": 4,
  "nbformat_minor": 5
}